{
 "cells": [
  {
   "cell_type": "markdown",
   "id": "afdaabab",
   "metadata": {},
   "source": [
    "# TF-IDF + Cosine Similarity Chatbot (Cornell Movie Dialogs Corpus)\n",
    "A simple NLP chatbot using TF-IDF and cosine similarity for conversational response matching."
   ]
  },
  {
   "cell_type": "code",
   "execution_count": null,
   "id": "dcc65146",
   "metadata": {},
   "outputs": [],
   "source": [
    "# Import required libraries\n",
    "import pandas as pd\n",
    "import numpy as np\n",
    "import re\n",
    "import ast\n",
    "from sklearn.feature_extraction.text import TfidfVectorizer\n",
    "from sklearn.metrics.pairwise import cosine_similarity"
   ]
  },
  {
   "cell_type": "code",
   "execution_count": null,
   "id": "685d7b09",
   "metadata": {},
   "outputs": [],
   "source": [
    "# STEP 1: Load the Cornell Movie Dialogs Dataset\n",
    "lines = pd.read_csv('cornell movie-dialogs corpus/movie_lines.txt', sep=' \\+\\+\\+\\$\\+\\+\\+ ', \n",
    "                    engine='python', names=[\"lineID\", \"characterID\", \"movieID\", \"character\", \"text\"])\n",
    "\n",
    "conversations = pd.read_csv('cornell movie-dialogs corpus/movie_conversations.txt', sep=' \\+\\+\\+\\$\\+\\+\\+ ',\n",
    "                            engine='python', names=[\"character1\", \"character2\", \"movieID\", \"utteranceIDs\"])\n",
    "\n",
    "# Convert utteranceIDs from string to list\n",
    "conversations['utteranceIDs'] = conversations['utteranceIDs'].apply(ast.literal_eval)"
   ]
  },
  {
   "cell_type": "code",
   "execution_count": null,
   "id": "c6126ab6",
   "metadata": {},
   "outputs": [],
   "source": [
    "# STEP 2: Extract Conversational Pairs (input-response)\n",
    "line_dict = dict(zip(lines['lineID'], lines['text']))\n",
    "\n",
    "pairs = []\n",
    "for conv in conversations['utteranceIDs']:\n",
    "    for i in range(len(conv) - 1):\n",
    "        input_line = line_dict.get(conv[i], \"\")\n",
    "        response_line = line_dict.get(conv[i + 1], \"\")\n",
    "        if input_line and response_line:\n",
    "            pairs.append((input_line, response_line))\n",
    "\n",
    "chat_df = pd.DataFrame(pairs, columns=[\"input\", \"response\"])\n",
    "chat_df.drop_duplicates(inplace=True)\n",
    "chat_df.reset_index(drop=True, inplace=True)"
   ]
  },
  {
   "cell_type": "code",
   "execution_count": null,
   "id": "4a83970e",
   "metadata": {},
   "outputs": [],
   "source": [
    "# STEP 3: Preprocess the Text\n",
    "def clean_text(text):\n",
    "    text = text.lower()\n",
    "    text = re.sub(r\"[^a-zA-Z0-9\\s]\", \"\", text)\n",
    "    text = re.sub(r\"\\s+\", \" \", text).strip()\n",
    "    return text\n",
    "\n",
    "chat_df['clean_input'] = chat_df['input'].apply(clean_text)"
   ]
  },
  {
   "cell_type": "code",
   "execution_count": null,
   "id": "8c751f14",
   "metadata": {},
   "outputs": [],
   "source": [
    "# STEP 4: Create TF-IDF Matrix for User Inputs\n",
    "vectorizer = TfidfVectorizer(ngram_range=(1, 2), stop_words='english')\n",
    "tfidf_matrix = vectorizer.fit_transform(chat_df['clean_input'])"
   ]
  },
  {
   "cell_type": "code",
   "execution_count": null,
   "id": "3821f431",
   "metadata": {},
   "outputs": [],
   "source": [
    "# STEP 5: Chatbot Function Using Cosine Similarity\n",
    "def chatbot_response(user_input):\n",
    "    cleaned_input = clean_text(user_input)\n",
    "    user_vec = vectorizer.transform([cleaned_input])\n",
    "    similarities = cosine_similarity(user_vec, tfidf_matrix).flatten()\n",
    "    best_match_idx = similarities.argmax()\n",
    "    if similarities[best_match_idx] > 0:\n",
    "        return chat_df.iloc[best_match_idx]['response']\n",
    "    else:\n",
    "        return \"I'm not sure how to respond to that.\""
   ]
  },
  {
   "cell_type": "code",
   "execution_count": null,
   "id": "c663f30b",
   "metadata": {},
   "outputs": [],
   "source": [
    "# STEP 6: Simple CLI Chat Loop (Optional for local use)\n",
    "print(\"Bot: Hello! Type 'bye' to exit.\")\n",
    "while True:\n",
    "    user_input = input(\"You: \")\n",
    "    if user_input.lower() == 'bye':\n",
    "        print(\"Bot: Goodbye!\")\n",
    "        break\n",
    "    reply = chatbot_response(user_input)\n",
    "    print(\"Bot:\", reply)"
   ]
  }
 ],
 "metadata": {},
 "nbformat": 4,
 "nbformat_minor": 5
}
