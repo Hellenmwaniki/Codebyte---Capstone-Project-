{
 "cells": [
  {
   "cell_type": "markdown",
   "id": "7f07984e",
   "metadata": {},
   "source": [
    "## Team Members \n",
    "\n",
    "1. Jessica Mutiso\n",
    "2. Brian Waweru\n",
    "3. Pamela Godia\n",
    "4. Hellen Mwaniki"
   ]
  },
  {
   "cell_type": "markdown",
   "id": "7e5bcc01",
   "metadata": {},
   "source": [
    "## 1. Project Overview \n",
    "\n",
    "This project aims to develop a natural language chatbot capable of generating human-like responses and understanding informal customer feedback expressed in English, Kenyan Swahili and Sheng. Designed for a startup expanding into the Kenyan market, the chatbot will help the company engage users more naturally and analyze feedback from social platforms and online conversations. By training on locally relevant dialogue data  including YouTube comments and Kenyan media the system will capture the linguistic and cultural nuances often missed by standard models.\n",
    "\n"
   ]
  },
  {
   "cell_type": "markdown",
   "id": "6cee6a2e",
   "metadata": {},
   "source": [
    "## 1.1 Problem Statement\n",
    "Startups entering new markets often struggle to understand customer feedback when it's expressed in local dialects or informal language. In Kenya, much of this communication occurs in Swahili and Sheng, which combine local slang, English, and Swahili in a fluid, often unstructured manner. Existing chatbot systems trained on formal English fail to grasp the tone, intent, or meaning behind such messages. This project aims to fill that gap by building a chatbot trained specifically on real-world Kenyan conversations to interpret and respond to customer queries and feedback with local context and relevance."
   ]
  },
  {
   "cell_type": "markdown",
   "id": "0a75c93e",
   "metadata": {},
   "source": [
    "## 1.2 Objectives\n",
    "\n",
    "- Collect and preprocess Kenyan user dialogue from YouTube, social media, and local content featuring Swahili and Sheng\n",
    "\n",
    "- Fine-tune the chatbot with foundational data for conversational structure, while emphasizing local language patterns\n",
    "\n",
    "- Build a sequence-to-sequence model  capable of handling informal, code-switched dialogue\n",
    "\n",
    "- Evaluate the chatbot’s performance with emphasis on contextual relevance and local understanding\n",
    "\n",
    "- Present a working prototype that simulates real customer feedback scenarios "
   ]
  },
  {
   "cell_type": "markdown",
   "id": "0c2dadde",
   "metadata": {},
   "source": [
    "## Overall EDA"
   ]
  },
  {
   "cell_type": "code",
   "execution_count": 1,
   "id": "046223d4",
   "metadata": {},
   "outputs": [],
   "source": [
    "# importing relevant notebooks \n",
    "import pandas as pd \n",
    "import numpy as np\n",
    "import random\n",
    "import ast\n",
    "import re\n",
    "import matplotlib.pyplot as plt\n",
    "import seaborn as sns\n",
    "import string\n"
   ]
  },
  {
   "cell_type": "markdown",
   "id": "f774f14e",
   "metadata": {},
   "source": [
    "## Loading & Inspecting Datasets "
   ]
  },
  {
   "cell_type": "code",
   "execution_count": 2,
   "id": "abe29c16",
   "metadata": {},
   "outputs": [
    {
     "ename": "FileNotFoundError",
     "evalue": "[Errno 2] No such file or directory: 'original-data\\\\movie_lines.txt'",
     "output_type": "error",
     "traceback": [
      "\u001b[1;31m---------------------------------------------------------------------------\u001b[0m",
      "\u001b[1;31mFileNotFoundError\u001b[0m                         Traceback (most recent call last)",
      "Cell \u001b[1;32mIn[2], line 3\u001b[0m\n\u001b[0;32m      1\u001b[0m \u001b[38;5;66;03m#Reading movie_lines data \u001b[39;00m\n\u001b[1;32m----> 3\u001b[0m \u001b[38;5;28;01mwith\u001b[39;00m \u001b[38;5;28;43mopen\u001b[39;49m\u001b[43m(\u001b[49m\u001b[38;5;124;43m\"\u001b[39;49m\u001b[38;5;124;43moriginal-data\u001b[39;49m\u001b[38;5;124;43m\\\u001b[39;49m\u001b[38;5;124;43mmovie_lines.txt\u001b[39;49m\u001b[38;5;124;43m\"\u001b[39;49m\u001b[43m,\u001b[49m\u001b[43m \u001b[49m\u001b[43mencoding\u001b[49m\u001b[38;5;241;43m=\u001b[39;49m\u001b[38;5;124;43m'\u001b[39;49m\u001b[38;5;124;43mutf-8\u001b[39;49m\u001b[38;5;124;43m'\u001b[39;49m\u001b[43m)\u001b[49m \u001b[38;5;28;01mas\u001b[39;00m f:\n\u001b[0;32m      4\u001b[0m     \u001b[38;5;28;01mfor\u001b[39;00m _ \u001b[38;5;129;01min\u001b[39;00m \u001b[38;5;28mrange\u001b[39m(\u001b[38;5;241m5\u001b[39m):\n\u001b[0;32m      5\u001b[0m         \u001b[38;5;28mprint\u001b[39m(f\u001b[38;5;241m.\u001b[39mreadline())\n",
      "File \u001b[1;32mc:\\Users\\helle\\anaconda3\\envs\\Learn-env2\\Lib\\site-packages\\IPython\\core\\interactiveshell.py:324\u001b[0m, in \u001b[0;36m_modified_open\u001b[1;34m(file, *args, **kwargs)\u001b[0m\n\u001b[0;32m    317\u001b[0m \u001b[38;5;28;01mif\u001b[39;00m file \u001b[38;5;129;01min\u001b[39;00m {\u001b[38;5;241m0\u001b[39m, \u001b[38;5;241m1\u001b[39m, \u001b[38;5;241m2\u001b[39m}:\n\u001b[0;32m    318\u001b[0m     \u001b[38;5;28;01mraise\u001b[39;00m \u001b[38;5;167;01mValueError\u001b[39;00m(\n\u001b[0;32m    319\u001b[0m         \u001b[38;5;124mf\u001b[39m\u001b[38;5;124m\"\u001b[39m\u001b[38;5;124mIPython won\u001b[39m\u001b[38;5;124m'\u001b[39m\u001b[38;5;124mt let you open fd=\u001b[39m\u001b[38;5;132;01m{\u001b[39;00mfile\u001b[38;5;132;01m}\u001b[39;00m\u001b[38;5;124m by default \u001b[39m\u001b[38;5;124m\"\u001b[39m\n\u001b[0;32m    320\u001b[0m         \u001b[38;5;124m\"\u001b[39m\u001b[38;5;124mas it is likely to crash IPython. If you know what you are doing, \u001b[39m\u001b[38;5;124m\"\u001b[39m\n\u001b[0;32m    321\u001b[0m         \u001b[38;5;124m\"\u001b[39m\u001b[38;5;124myou can use builtins\u001b[39m\u001b[38;5;124m'\u001b[39m\u001b[38;5;124m open.\u001b[39m\u001b[38;5;124m\"\u001b[39m\n\u001b[0;32m    322\u001b[0m     )\n\u001b[1;32m--> 324\u001b[0m \u001b[38;5;28;01mreturn\u001b[39;00m \u001b[43mio_open\u001b[49m\u001b[43m(\u001b[49m\u001b[43mfile\u001b[49m\u001b[43m,\u001b[49m\u001b[43m \u001b[49m\u001b[38;5;241;43m*\u001b[39;49m\u001b[43margs\u001b[49m\u001b[43m,\u001b[49m\u001b[43m \u001b[49m\u001b[38;5;241;43m*\u001b[39;49m\u001b[38;5;241;43m*\u001b[39;49m\u001b[43mkwargs\u001b[49m\u001b[43m)\u001b[49m\n",
      "\u001b[1;31mFileNotFoundError\u001b[0m: [Errno 2] No such file or directory: 'original-data\\\\movie_lines.txt'"
     ]
    }
   ],
   "source": [
    "#Reading movie_lines data \n",
    "\n",
    "with open(\"original-data\\movie_lines.txt\", encoding='utf-8') as f:\n",
    "    for _ in range(5):\n",
    "        print(f.readline())\n"
   ]
  },
  {
   "cell_type": "code",
   "execution_count": null,
   "id": "8b43917c",
   "metadata": {},
   "outputs": [
    {
     "name": "stdout",
     "output_type": "stream",
     "text": [
      "video_id,comment\n",
      "\n",
      "qlZM3McwO1Q,What an incredible victory. I agree the Kenyans should have been celebrated at the end. This was an incredible performance.\n",
      "\n",
      "qlZM3McwO1Q,❤\n",
      "\n",
      "qlZM3McwO1Q,“Claudia is an amazonian goddess with a beautiful clam!” - Bruce Wayne\n",
      "\n",
      "qlZM3McwO1Q,Proud of my motherland Kenya ❤❤❤and Africa.at large\n",
      "\n"
     ]
    }
   ],
   "source": [
    "with open(\"original-data\\pamela-youtube_comments.csv\", encoding=\"utf-8\") as f:\n",
    "    for _ in range(5):\n",
    "        print(f.readline())\n"
   ]
  },
  {
   "cell_type": "code",
   "execution_count": null,
   "id": "41a509cd",
   "metadata": {},
   "outputs": [
    {
     "data": {
      "text/html": [
       "<div>\n",
       "<style scoped>\n",
       "    .dataframe tbody tr th:only-of-type {\n",
       "        vertical-align: middle;\n",
       "    }\n",
       "\n",
       "    .dataframe tbody tr th {\n",
       "        vertical-align: top;\n",
       "    }\n",
       "\n",
       "    .dataframe thead th {\n",
       "        text-align: right;\n",
       "    }\n",
       "</style>\n",
       "<table border=\"1\" class=\"dataframe\">\n",
       "  <thead>\n",
       "    <tr style=\"text-align: right;\">\n",
       "      <th></th>\n",
       "      <th>VideoID</th>\n",
       "      <th>comment</th>\n",
       "    </tr>\n",
       "  </thead>\n",
       "  <tbody>\n",
       "    <tr>\n",
       "      <th>0</th>\n",
       "      <td>video_id,comment</td>\n",
       "      <td>NaN</td>\n",
       "    </tr>\n",
       "    <tr>\n",
       "      <th>1</th>\n",
       "      <td>qlZM3McwO1Q,What an incredible victory. I agre...</td>\n",
       "      <td>NaN</td>\n",
       "    </tr>\n",
       "    <tr>\n",
       "      <th>2</th>\n",
       "      <td>qlZM3McwO1Q,â¤</td>\n",
       "      <td>NaN</td>\n",
       "    </tr>\n",
       "    <tr>\n",
       "      <th>3</th>\n",
       "      <td>qlZM3McwO1Q,âClaudia is an amazonian goddess...</td>\n",
       "      <td>NaN</td>\n",
       "    </tr>\n",
       "    <tr>\n",
       "      <th>4</th>\n",
       "      <td>qlZM3McwO1Q,Proud of my motherland Kenya â¤â...</td>\n",
       "      <td>NaN</td>\n",
       "    </tr>\n",
       "  </tbody>\n",
       "</table>\n",
       "</div>"
      ],
      "text/plain": [
       "                                             VideoID  comment\n",
       "0                                   video_id,comment      NaN\n",
       "1  qlZM3McwO1Q,What an incredible victory. I agre...      NaN\n",
       "2                                    qlZM3McwO1Q,â¤      NaN\n",
       "3  qlZM3McwO1Q,âClaudia is an amazonian goddess...      NaN\n",
       "4  qlZM3McwO1Q,Proud of my motherland Kenya â¤â...      NaN"
      ]
     },
     "execution_count": 89,
     "metadata": {},
     "output_type": "execute_result"
    }
   ],
   "source": [
    "columns = [\"VideoID\", \"comment\"]\n",
    "\n",
    "movie_titles = pd.read_csv(\n",
    "    \"original-data\\pamela-youtube_comments.csv\",\n",
    "    sep=' \\+\\+\\+\\$\\+\\+\\+ ',\n",
    "    engine='python',\n",
    "    names=columns,\n",
    "    encoding='ISO-8859-1'\n",
    ")\n",
    "\n",
    "movie_titles.head()"
   ]
  },
  {
   "cell_type": "code",
   "execution_count": null,
   "id": "252200e7",
   "metadata": {},
   "outputs": [
    {
     "name": "stdout",
     "output_type": "stream",
     "text": [
      "Top Comment,Reply\n",
      "\n",
      "\"Apple missed the boat on AI OR... Apple is doing what it always does, waiting for others to prove a new technology, then ride in on their massive platform and take over. Time will tell which statement is true.\",\n",
      "\n",
      "\"Who added the background music to the video its so fucking distracting. It sounds like nier automata bgm, that makes it impossible to focus\",\n",
      "\n",
      "16:26  FEMI KUTI !!! RAAHHH !!!,\n",
      "\n",
      "\"The greatest AI scam in history, is AI.\",\n",
      "\n"
     ]
    }
   ],
   "source": [
    "with open (\"original-data/brian_youtube_data_comments.csv\", encoding =\"utf-8\") as f:\n",
    "    for _ in range(5):\n",
    "        print(f.readline())"
   ]
  },
  {
   "cell_type": "code",
   "execution_count": null,
   "id": "a373b780",
   "metadata": {},
   "outputs": [
    {
     "data": {
      "text/html": [
       "<div>\n",
       "<style scoped>\n",
       "    .dataframe tbody tr th:only-of-type {\n",
       "        vertical-align: middle;\n",
       "    }\n",
       "\n",
       "    .dataframe tbody tr th {\n",
       "        vertical-align: top;\n",
       "    }\n",
       "\n",
       "    .dataframe thead th {\n",
       "        text-align: right;\n",
       "    }\n",
       "</style>\n",
       "<table border=\"1\" class=\"dataframe\">\n",
       "  <thead>\n",
       "    <tr style=\"text-align: right;\">\n",
       "      <th></th>\n",
       "      <th>comment</th>\n",
       "      <th>response</th>\n",
       "    </tr>\n",
       "  </thead>\n",
       "  <tbody>\n",
       "    <tr>\n",
       "      <th>0</th>\n",
       "      <td>ï»¿Top Comment,Reply</td>\n",
       "      <td>NaN</td>\n",
       "    </tr>\n",
       "    <tr>\n",
       "      <th>1</th>\n",
       "      <td>\"Apple missed the boat on AI OR... Apple is do...</td>\n",
       "      <td>NaN</td>\n",
       "    </tr>\n",
       "    <tr>\n",
       "      <th>2</th>\n",
       "      <td>\"Who added the background music to the video i...</td>\n",
       "      <td>NaN</td>\n",
       "    </tr>\n",
       "    <tr>\n",
       "      <th>3</th>\n",
       "      <td>16:26  FEMI KUTI !!! RAAHHH !!!,</td>\n",
       "      <td>NaN</td>\n",
       "    </tr>\n",
       "    <tr>\n",
       "      <th>4</th>\n",
       "      <td>\"The greatest AI scam in history, is AI.\",</td>\n",
       "      <td>NaN</td>\n",
       "    </tr>\n",
       "  </tbody>\n",
       "</table>\n",
       "</div>"
      ],
      "text/plain": [
       "                                             comment  response\n",
       "0                               ï»¿Top Comment,Reply       NaN\n",
       "1  \"Apple missed the boat on AI OR... Apple is do...       NaN\n",
       "2  \"Who added the background music to the video i...       NaN\n",
       "3                   16:26  FEMI KUTI !!! RAAHHH !!!,       NaN\n",
       "4         \"The greatest AI scam in history, is AI.\",       NaN"
      ]
     },
     "execution_count": 91,
     "metadata": {},
     "output_type": "execute_result"
    }
   ],
   "source": [
    "columns = [\"comment\", \"response\"]\n",
    "\n",
    "movie_titles = pd.read_csv(\n",
    "    \"original-data/brian_youtube_data_comments.csv\",\n",
    "    sep=' \\+\\+\\+\\$\\+\\+\\+ ',\n",
    "    engine='python',\n",
    "    names=columns,\n",
    "    encoding='ISO-8859-1'\n",
    ")\n",
    "\n",
    "movie_titles.head()"
   ]
  },
  {
   "cell_type": "code",
   "execution_count": null,
   "id": "bb1f87b7",
   "metadata": {},
   "outputs": [
    {
     "name": "stdout",
     "output_type": "stream",
     "text": [
      "u0 +++$+++ u2 +++$+++ m0 +++$+++ ['L194', 'L195', 'L196', 'L197']\n",
      "\n",
      "u0 +++$+++ u2 +++$+++ m0 +++$+++ ['L198', 'L199']\n",
      "\n",
      "u0 +++$+++ u2 +++$+++ m0 +++$+++ ['L200', 'L201', 'L202', 'L203']\n",
      "\n",
      "u0 +++$+++ u2 +++$+++ m0 +++$+++ ['L204', 'L205', 'L206']\n",
      "\n",
      "u0 +++$+++ u2 +++$+++ m0 +++$+++ ['L207', 'L208']\n",
      "\n"
     ]
    }
   ],
   "source": [
    "## Reading the conversation data\n",
    "\n",
    "with open(\"original-data\\movie_conversations.txt\", encoding=\"ISO-8859-1\") as f:\n",
    "    for _ in range(5):\n",
    "        print(f.readline())\n"
   ]
  },
  {
   "cell_type": "code",
   "execution_count": null,
   "id": "6438d3e2",
   "metadata": {},
   "outputs": [
    {
     "name": "stdout",
     "output_type": "stream",
     "text": [
      "m0 +++$+++ 10 things i hate about you +++$+++ 1999 +++$+++ 6.90 +++$+++ 62847 +++$+++ ['comedy', 'romance']\n",
      "\n",
      "m1 +++$+++ 1492: conquest of paradise +++$+++ 1992 +++$+++ 6.20 +++$+++ 10421 +++$+++ ['adventure', 'biography', 'drama', 'history']\n",
      "\n",
      "m2 +++$+++ 15 minutes +++$+++ 2001 +++$+++ 6.10 +++$+++ 25854 +++$+++ ['action', 'crime', 'drama', 'thriller']\n",
      "\n",
      "m3 +++$+++ 2001: a space odyssey +++$+++ 1968 +++$+++ 8.40 +++$+++ 163227 +++$+++ ['adventure', 'mystery', 'sci-fi']\n",
      "\n",
      "m4 +++$+++ 48 hrs. +++$+++ 1982 +++$+++ 6.90 +++$+++ 22289 +++$+++ ['action', 'comedy', 'crime', 'drama', 'thriller']\n",
      "\n"
     ]
    }
   ],
   "source": [
    "# Reading movie titles data \n",
    "\n",
    "with open (\"original-data\\movie_titles_metadata.txt\", encoding= \"ISO-8859-1\") as f:\n",
    "    for _ in range(5):\n",
    "        print(f.readline())"
   ]
  },
  {
   "cell_type": "code",
   "execution_count": null,
   "id": "423b4058",
   "metadata": {},
   "outputs": [
    {
     "data": {
      "text/html": [
       "<div>\n",
       "<style scoped>\n",
       "    .dataframe tbody tr th:only-of-type {\n",
       "        vertical-align: middle;\n",
       "    }\n",
       "\n",
       "    .dataframe tbody tr th {\n",
       "        vertical-align: top;\n",
       "    }\n",
       "\n",
       "    .dataframe thead th {\n",
       "        text-align: right;\n",
       "    }\n",
       "</style>\n",
       "<table border=\"1\" class=\"dataframe\">\n",
       "  <thead>\n",
       "    <tr style=\"text-align: right;\">\n",
       "      <th></th>\n",
       "      <th>MovieID</th>\n",
       "      <th>Movie Title</th>\n",
       "      <th>Year</th>\n",
       "      <th>Rating</th>\n",
       "      <th>no_votes</th>\n",
       "      <th>Genre</th>\n",
       "    </tr>\n",
       "  </thead>\n",
       "  <tbody>\n",
       "    <tr>\n",
       "      <th>0</th>\n",
       "      <td>m0</td>\n",
       "      <td>10 things i hate about you</td>\n",
       "      <td>1999</td>\n",
       "      <td>6.9</td>\n",
       "      <td>62847</td>\n",
       "      <td>['comedy', 'romance']</td>\n",
       "    </tr>\n",
       "    <tr>\n",
       "      <th>1</th>\n",
       "      <td>m1</td>\n",
       "      <td>1492: conquest of paradise</td>\n",
       "      <td>1992</td>\n",
       "      <td>6.2</td>\n",
       "      <td>10421</td>\n",
       "      <td>['adventure', 'biography', 'drama', 'history']</td>\n",
       "    </tr>\n",
       "    <tr>\n",
       "      <th>2</th>\n",
       "      <td>m2</td>\n",
       "      <td>15 minutes</td>\n",
       "      <td>2001</td>\n",
       "      <td>6.1</td>\n",
       "      <td>25854</td>\n",
       "      <td>['action', 'crime', 'drama', 'thriller']</td>\n",
       "    </tr>\n",
       "    <tr>\n",
       "      <th>3</th>\n",
       "      <td>m3</td>\n",
       "      <td>2001: a space odyssey</td>\n",
       "      <td>1968</td>\n",
       "      <td>8.4</td>\n",
       "      <td>163227</td>\n",
       "      <td>['adventure', 'mystery', 'sci-fi']</td>\n",
       "    </tr>\n",
       "    <tr>\n",
       "      <th>4</th>\n",
       "      <td>m4</td>\n",
       "      <td>48 hrs.</td>\n",
       "      <td>1982</td>\n",
       "      <td>6.9</td>\n",
       "      <td>22289</td>\n",
       "      <td>['action', 'comedy', 'crime', 'drama', 'thrill...</td>\n",
       "    </tr>\n",
       "  </tbody>\n",
       "</table>\n",
       "</div>"
      ],
      "text/plain": [
       "  MovieID                 Movie Title  Year  Rating  no_votes  \\\n",
       "0      m0  10 things i hate about you  1999     6.9     62847   \n",
       "1      m1  1492: conquest of paradise  1992     6.2     10421   \n",
       "2      m2                  15 minutes  2001     6.1     25854   \n",
       "3      m3       2001: a space odyssey  1968     8.4    163227   \n",
       "4      m4                     48 hrs.  1982     6.9     22289   \n",
       "\n",
       "                                               Genre  \n",
       "0                              ['comedy', 'romance']  \n",
       "1     ['adventure', 'biography', 'drama', 'history']  \n",
       "2           ['action', 'crime', 'drama', 'thriller']  \n",
       "3                 ['adventure', 'mystery', 'sci-fi']  \n",
       "4  ['action', 'comedy', 'crime', 'drama', 'thrill...  "
      ]
     },
     "execution_count": 94,
     "metadata": {},
     "output_type": "execute_result"
    }
   ],
   "source": [
    "columns = [\"MovieID\", \"Movie Title\",\"Year\", \"Rating\", \"no_votes\", \"Genre\"]\n",
    "\n",
    "movie_titles = pd.read_csv(\n",
    "    \"original-data\\movie_titles_metadata.txt\",\n",
    "    sep=' \\+\\+\\+\\$\\+\\+\\+ ',\n",
    "    engine='python',\n",
    "    names=columns,\n",
    "    encoding='ISO-8859-1'\n",
    ")\n",
    "\n",
    "movie_titles.head()"
   ]
  },
  {
   "cell_type": "code",
   "execution_count": null,
   "id": "8e5910e2",
   "metadata": {},
   "outputs": [
    {
     "name": "stdout",
     "output_type": "stream",
     "text": [
      "<class 'pandas.core.frame.DataFrame'>\n",
      "RangeIndex: 617 entries, 0 to 616\n",
      "Data columns (total 6 columns):\n",
      " #   Column       Non-Null Count  Dtype  \n",
      "---  ------       --------------  -----  \n",
      " 0   MovieID      617 non-null    object \n",
      " 1   Movie Title  617 non-null    object \n",
      " 2   Year         617 non-null    object \n",
      " 3   Rating       617 non-null    float64\n",
      " 4   no_votes     617 non-null    int64  \n",
      " 5   Genre        617 non-null    object \n",
      "dtypes: float64(1), int64(1), object(4)\n",
      "memory usage: 29.1+ KB\n"
     ]
    }
   ],
   "source": [
    "movie_titles.info()"
   ]
  },
  {
   "cell_type": "code",
   "execution_count": null,
   "id": "16b749f9",
   "metadata": {},
   "outputs": [
    {
     "name": "stdout",
     "output_type": "stream",
     "text": [
      "m0 +++$+++ 10 things i hate about you +++$+++ http://www.dailyscript.com/scripts/10Things.html\n",
      "\n",
      "m1 +++$+++ 1492: conquest of paradise +++$+++ http://www.hundland.org/scripts/1492-ConquestOfParadise.txt\n",
      "\n",
      "m2 +++$+++ 15 minutes +++$+++ http://www.dailyscript.com/scripts/15minutes.html\n",
      "\n",
      "m3 +++$+++ 2001: a space odyssey +++$+++ http://www.scifiscripts.com/scripts/2001.txt\n",
      "\n",
      "m4 +++$+++ 48 hrs. +++$+++ http://www.awesomefilm.com/script/48hours.txt\n",
      "\n"
     ]
    }
   ],
   "source": [
    "# Reading raw_script data\n",
    "\n",
    "with open (\"original-data/raw_script_urls.txt\", encoding = \"ISO-8859=1\") as f:\n",
    "        for _ in range(5):\n",
    "              print(f.readline())"
   ]
  },
  {
   "cell_type": "markdown",
   "id": "ff24a723",
   "metadata": {},
   "source": [
    "## Data Usage Explanation \n",
    "\n",
    "\n",
    "-  Youtube Dataset (scraped) - Help chatbot understand local expressions, slang, and questions users are actually asking\n",
    "\n",
    "-  Cornell Dataset Teach dialog structure (turn-taking, responses), mostly in English"
   ]
  },
  {
   "cell_type": "markdown",
   "id": "7cc3afe9",
   "metadata": {},
   "source": [
    "## Merging Youtube Datasets"
   ]
  },
  {
   "cell_type": "code",
   "execution_count": null,
   "id": "be36b8f6",
   "metadata": {},
   "outputs": [
    {
     "name": "stdout",
     "output_type": "stream",
     "text": [
      "pamela-youtube_comments.csv Columns: ['video_id', 'comment']\n",
      "brian_youtube_data_comments.csv Columns: ['Top Comment', 'Reply']\n"
     ]
    }
   ],
   "source": [
    "\n",
    "# Load both datasets without filtering columns yet\n",
    "df1 = pd.read_csv(\"original-data/pamela-youtube_comments.csv\")\n",
    "df2 = pd.read_csv(\"original-data/brian_youtube_data_comments.csv\")\n",
    "\n",
    "# Print column names to inspect\n",
    "print(\"pamela-youtube_comments.csv Columns:\", df1.columns.tolist())\n",
    "print(\"brian_youtube_data_comments.csv Columns:\", df2.columns.tolist())\n"
   ]
  },
  {
   "cell_type": "code",
   "execution_count": null,
   "id": "5ceb6d34",
   "metadata": {},
   "outputs": [
    {
     "name": "stdout",
     "output_type": "stream",
     "text": [
      "Combined Dataset Shape: (26095, 2)\n"
     ]
    },
    {
     "data": {
      "text/html": [
       "<div>\n",
       "<style scoped>\n",
       "    .dataframe tbody tr th:only-of-type {\n",
       "        vertical-align: middle;\n",
       "    }\n",
       "\n",
       "    .dataframe tbody tr th {\n",
       "        vertical-align: top;\n",
       "    }\n",
       "\n",
       "    .dataframe thead th {\n",
       "        text-align: right;\n",
       "    }\n",
       "</style>\n",
       "<table border=\"1\" class=\"dataframe\">\n",
       "  <thead>\n",
       "    <tr style=\"text-align: right;\">\n",
       "      <th></th>\n",
       "      <th>comment</th>\n",
       "      <th>response</th>\n",
       "    </tr>\n",
       "  </thead>\n",
       "  <tbody>\n",
       "    <tr>\n",
       "      <th>463</th>\n",
       "      <td>Its gotta suck to run and worry if your gonna ...</td>\n",
       "      <td>None</td>\n",
       "    </tr>\n",
       "    <tr>\n",
       "      <th>14018</th>\n",
       "      <td>😂😂😂😂😂😂</td>\n",
       "      <td>None</td>\n",
       "    </tr>\n",
       "    <tr>\n",
       "      <th>13764</th>\n",
       "      <td>Embarrassing enough</td>\n",
       "      <td>None</td>\n",
       "    </tr>\n",
       "    <tr>\n",
       "      <th>18811</th>\n",
       "      <td>Amen</td>\n",
       "      <td>None</td>\n",
       "    </tr>\n",
       "    <tr>\n",
       "      <th>20339</th>\n",
       "      <td>Abraham Abraham father of faith_ nation 💕 may ...</td>\n",
       "      <td>None</td>\n",
       "    </tr>\n",
       "  </tbody>\n",
       "</table>\n",
       "</div>"
      ],
      "text/plain": [
       "                                                 comment response\n",
       "463    Its gotta suck to run and worry if your gonna ...     None\n",
       "14018                                             😂😂😂😂😂😂     None\n",
       "13764                                Embarrassing enough     None\n",
       "18811                                               Amen     None\n",
       "20339  Abraham Abraham father of faith_ nation 💕 may ...     None"
      ]
     },
     "metadata": {},
     "output_type": "display_data"
    }
   ],
   "source": [
    "import pandas as pd\n",
    "\n",
    "# Load both datasets\n",
    "df1 = pd.read_csv(\"original-data/pamela-youtube_comments.csv\")  \n",
    "df2 = pd.read_csv(\"original-data/brian_youtube_data_comments.csv\")  \n",
    "# Clean df1: keep only 'comment' and drop nulls\n",
    "df1 = df1[['comment']].dropna()\n",
    "df1['response'] = None  # add placeholder column for consistency\n",
    "\n",
    "# Clean df2: rename columns and drop nulls\n",
    "df2 = df2.rename(columns={\"Top Comment\": \"comment\", \"Reply\": \"response\"})\n",
    "df2 = df2[['comment', 'response']].dropna()\n",
    "\n",
    "# Combine both\n",
    "df_combined = pd.concat([df1, df2], ignore_index=True)\n",
    "\n",
    "# Preview\n",
    "print(\"Combined Dataset Shape:\", df_combined.shape)\n",
    "display(df_combined.sample(5))\n",
    "\n"
   ]
  },
  {
   "cell_type": "markdown",
   "id": "d232086f",
   "metadata": {},
   "source": [
    "# Comments length Distribution "
   ]
  },
  {
   "cell_type": "code",
   "execution_count": null,
   "id": "8b4df1c8",
   "metadata": {},
   "outputs": [
    {
     "name": "stderr",
     "output_type": "stream",
     "text": [
      "c:\\Users\\helle\\anaconda3\\envs\\Learn-env2\\Lib\\site-packages\\seaborn\\_oldcore.py:1119: FutureWarning: use_inf_as_na option is deprecated and will be removed in a future version. Convert inf values to NaN before operating instead.\n",
      "  with pd.option_context('mode.use_inf_as_na', True):\n",
      "c:\\Users\\helle\\anaconda3\\envs\\Learn-env2\\Lib\\site-packages\\IPython\\core\\pylabtools.py:170: UserWarning: Glyph 128221 (\\N{MEMO}) missing from current font.\n",
      "  fig.canvas.print_figure(bytes_io, **kw)\n"
     ]
    },
    {
     "data": {
      "image/png": "[encoded data removed]",
      "text/plain": [
       "<Figure size 1000x600 with 1 Axes>"
      ]
     },
     "metadata": {},
     "output_type": "display_data"
    }
   ],
   "source": [
    "import matplotlib.pyplot as plt\n",
    "import seaborn as sns\n",
    "\n",
    "# Add a new column: comment length (in words)\n",
    "df_combined['comment_length'] = df_combined['comment'].apply(lambda x: len(str(x).split()))\n",
    "\n",
    "# Plot distribution\n",
    "plt.figure(figsize=(10, 6))\n",
    "sns.histplot(df_combined['comment_length'], bins=30, kde=True, color='skyblue')\n",
    "plt.title(\"📝 Distribution of Comment Lengths (in words)\")\n",
    "plt.xlabel(\"Number of Words per Comment\")\n",
    "plt.ylabel(\"Frequency\")\n",
    "plt.grid(True)\n",
    "plt.show()\n"
   ]
  },
  {
   "cell_type": "markdown",
   "id": "db9c087d",
   "metadata": {},
   "source": [
    "# Top words in comments "
   ]
  },
  {
   "cell_type": "code",
   "execution_count": null,
   "id": "1a550c46",
   "metadata": {},
   "outputs": [
    {
     "name": "stderr",
     "output_type": "stream",
     "text": [
      "c:\\Users\\helle\\anaconda3\\envs\\Learn-env2\\Lib\\site-packages\\seaborn\\_oldcore.py:1765: FutureWarning: unique with argument that is not not a Series, Index, ExtensionArray, or np.ndarray is deprecated and will raise in a future version.\n",
      "  order = pd.unique(vector)\n"
     ]
    },
    {
     "data": {
      "image/png": "[encoded data removed]",
      "text/plain": [
       "<Figure size 1200x600 with 1 Axes>"
      ]
     },
     "metadata": {},
     "output_type": "display_data"
    }
   ],
   "source": [
    "from collections import Counter\n",
    "import string\n",
    "\n",
    "# Combine all comments into one string\n",
    "all_text = \" \".join(df_combined['comment'].dropna().astype(str)).lower()\n",
    "\n",
    "# Basic tokenization: split by space, remove punctuation\n",
    "tokens = [word.strip(string.punctuation) for word in all_text.split()]\n",
    "\n",
    "\n",
    "# Basic tokenization: split by space, remove punctuation\n",
    "tokens = [word.strip(string.punctuation) for word in all_text.split()]\n",
    "tokens = [word for word in tokens if word]  # remove empty\n",
    "\n",
    "# Count frequencies\n",
    "word_freq = Counter(tokens)\n",
    "top_words = word_freq.most_common(20)\n",
    "\n",
    "# Plot\n",
    "words, counts = zip(*top_words)\n",
    "plt.figure(figsize=(12, 6))\n",
    "sns.barplot(x=list(words), y=list(counts), palette='viridis')\n",
    "plt.title(\"Top 20 Most Frequent Words (Uncleaned)\")\n",
    "plt.xticks(rotation=45)\n",
    "plt.ylabel(\"Count\")\n",
    "plt.show()\n"
   ]
  },
  {
   "cell_type": "markdown",
   "id": "4a703154",
   "metadata": {},
   "source": [
    "# Language Detection and preprocessing - Youtube data \n",
    "\n",
    "Here I want to check the amount of swahili / sheng in my youtube dataset to understand whether the data is efficient to use for training \n"
   ]
  },
  {
   "cell_type": "code",
   "execution_count": null,
   "id": "50bf7e13",
   "metadata": {},
   "outputs": [],
   "source": [
    "# Preparing tokenized words list\n",
    "\n",
    "from nltk.tokenize import word_tokenize\n",
    "import string\n",
    "\n",
    "\n",
    "all_text = \" \".join(df_combined[\"comment\"].dropna().astype(str).tolist())\n",
    "\n",
    "# Tokenizing\n",
    "tokens = word_tokenize(all_text.lower())\n",
    "\n",
    "# Removing punctuations\n",
    "tokens = [word for word in tokens if word not in string.punctuation]\n"
   ]
  },
  {
   "cell_type": "code",
   "execution_count": null,
   "id": "3551fd87",
   "metadata": {},
   "outputs": [],
   "source": [
    "sheng_swahili_vocab = {\n",
    "    \"msee\", \"manze\", \"vile\", \"sasa\", \"buda\", \"nani\", \"kiasi\", \"si\", \"poa\", \"kwani\",\n",
    "    \"hapo\", \"ushapata\", \"unadai\", \"ni\", \"aje\", \"nimeona\", \"noma\", \"mbogi\", \"beshte\",\n",
    "    \"wasee\", \"ati\", \"ndio\", \"sana\", \"sijui\", \"nduthi\", \"wewe\", \"kuna\", \"niko\", \"leo\",\n",
    "    \"kesho\", \"shida\", \"rafiki\", \"asante\", \"karibu\", \"mambo\", \"habari\", \"leo\", \"mzuri\"\n",
    "}\n"
   ]
  },
  {
   "cell_type": "code",
   "execution_count": null,
   "id": "d7575f48",
   "metadata": {},
   "outputs": [
    {
     "name": "stdout",
     "output_type": "stream",
     "text": [
      "Swahili/Sheng word count: 2786\n",
      "Total words: 602079\n",
      "Swahili/Sheng word percentage: 0.46%\n"
     ]
    }
   ],
   "source": [
    "from collections import Counter\n",
    "\n",
    "# Countfing all words \n",
    "word_counts = Counter(tokens)\n",
    "\n",
    "# Counting only Swahili/Sheng words\n",
    "swahili_sheng_counts = {word: count for word, count in word_counts.items() if word in sheng_swahili_vocab}\n",
    "\n",
    "# Total words and total Swahili/Sheng\n",
    "total_words = sum(word_counts.values())\n",
    "total_swahili_sheng = sum(swahili_sheng_counts.values())\n",
    "\n",
    "print(f\"Swahili/Sheng word count: {total_swahili_sheng}\")\n",
    "print(f\"Total words: {total_words}\")\n",
    "print(f\"Swahili/Sheng word percentage: {total_swahili_sheng / total_words:.2%}\")\n"
   ]
  },
  {
   "cell_type": "code",
   "execution_count": null,
   "id": "32c04b13",
   "metadata": {},
   "outputs": [
    {
     "name": "stdout",
     "output_type": "stream",
     "text": [
      "Top Swahili/Sheng words in dataset:\n",
      "[('ni', 870),\n",
      " ('sana', 518),\n",
      " ('wewe', 201),\n",
      " ('ndio', 166),\n",
      " ('si', 127),\n",
      " ('kuna', 121),\n",
      " ('ati', 116),\n",
      " ('sasa', 92),\n",
      " ('vile', 89),\n",
      " ('hapo', 85),\n",
      " ('kwani', 63),\n",
      " ('aje', 51),\n",
      " ('mambo', 41),\n",
      " ('leo', 40),\n",
      " ('sijui', 37),\n",
      " ('shida', 37),\n",
      " ('nani', 27),\n",
      " ('niko', 17),\n",
      " ('poa', 16),\n",
      " ('mzuri', 12)]\n"
     ]
    }
   ],
   "source": [
    "from pprint import pprint\n",
    "\n",
    "print(\"Top Swahili/Sheng words in dataset:\")\n",
    "pprint(sorted(swahili_sheng_counts.items(), key=lambda x: x[1], reverse=True)[:20])\n"
   ]
  },
  {
   "cell_type": "code",
   "execution_count": null,
   "id": "256acbf0",
   "metadata": {},
   "outputs": [
    {
     "name": "stdout",
     "output_type": "stream",
     "text": [
      "^C\n",
      "Note: you may need to restart the kernel to use updated packages.\n"
     ]
    },
    {
     "name": "stdout",
     "output_type": "stream",
     "text": [
      "Requirement already satisfied: langdetect in c:\\users\\helle\\anaconda3\\envs\\learn-env2\\lib\\site-packages (1.0.9)\n",
      "Requirement already satisfied: six in c:\\users\\helle\\anaconda3\\envs\\learn-env2\\lib\\site-packages (from langdetect) (1.16.0)\n"
     ]
    }
   ],
   "source": [
    "pip install langdetect"
   ]
  },
  {
   "cell_type": "markdown",
   "id": "ef72d4b6",
   "metadata": {},
   "source": [
    "## Swahili words in the Yotube Combined Dataset"
   ]
  },
  {
   "cell_type": "code",
   "execution_count": null,
   "id": "06f9c75a",
   "metadata": {},
   "outputs": [
    {
     "name": "stderr",
     "output_type": "stream",
     "text": [
      "100%|██████████| 26095/26095 [01:44<00:00, 249.87it/s]"
     ]
    },
    {
     "name": "stdout",
     "output_type": "stream",
     "text": [
      "Swahili comments: 1821 / 26095 (6.98%)\n"
     ]
    },
    {
     "name": "stderr",
     "output_type": "stream",
     "text": [
      "\n"
     ]
    }
   ],
   "source": [
    "from langdetect import detect, LangDetectException\n",
    "from tqdm import tqdm\n",
    "import re\n",
    "\n",
    "tqdm.pandas()\n",
    "\n",
    "def safe_detect(text):\n",
    "    try:\n",
    "        text = str(text).strip()\n",
    "    \n",
    "        cleaned = re.sub(r'[^a-zA-Z]', '', text)  # Removing digits and punctuation, keep only alphabetic characters\n",
    "        if len(cleaned) < 5:\n",
    "            return \"unknown\"\n",
    "        return detect(text)\n",
    "    except LangDetectException:\n",
    "        return \"unknown\"\n",
    "\n",
    "df_combined[\"language\"] = df_combined[\"comment\"].progress_apply(safe_detect)\n",
    "\n",
    "# Count Swahili comments (ISO 639-1 code for Swahili is 'sw')\n",
    "swahili_count = df_combined[df_combined[\"language\"] == \"sw\"][\"comment\"].count()\n",
    "total = df_combined[\"comment\"].count()\n",
    "\n",
    "print(f\"Swahili comments: {swahili_count} / {total} ({(swahili_count/total):.2%})\")\n"
   ]
  },
  {
   "cell_type": "code",
   "execution_count": null,
   "id": "5a0a786f",
   "metadata": {},
   "outputs": [
    {
     "data": {
      "text/html": [
       "<div>\n",
       "<style scoped>\n",
       "    .dataframe tbody tr th:only-of-type {\n",
       "        vertical-align: middle;\n",
       "    }\n",
       "\n",
       "    .dataframe tbody tr th {\n",
       "        vertical-align: top;\n",
       "    }\n",
       "\n",
       "    .dataframe thead th {\n",
       "        text-align: right;\n",
       "    }\n",
       "</style>\n",
       "<table border=\"1\" class=\"dataframe\">\n",
       "  <thead>\n",
       "    <tr style=\"text-align: right;\">\n",
       "      <th></th>\n",
       "      <th>comment</th>\n",
       "      <th>response</th>\n",
       "      <th>comment_length</th>\n",
       "      <th>language</th>\n",
       "    </tr>\n",
       "  </thead>\n",
       "  <tbody>\n",
       "    <tr>\n",
       "      <th>0</th>\n",
       "      <td>What an incredible victory. I agree the Kenyan...</td>\n",
       "      <td>None</td>\n",
       "      <td>20</td>\n",
       "      <td>en</td>\n",
       "    </tr>\n",
       "    <tr>\n",
       "      <th>1</th>\n",
       "      <td>❤</td>\n",
       "      <td>None</td>\n",
       "      <td>1</td>\n",
       "      <td>unknown</td>\n",
       "    </tr>\n",
       "    <tr>\n",
       "      <th>2</th>\n",
       "      <td>“Claudia is an amazonian goddess with a beauti...</td>\n",
       "      <td>None</td>\n",
       "      <td>12</td>\n",
       "      <td>en</td>\n",
       "    </tr>\n",
       "    <tr>\n",
       "      <th>3</th>\n",
       "      <td>Proud of my motherland Kenya ❤❤❤and Africa.at ...</td>\n",
       "      <td>None</td>\n",
       "      <td>8</td>\n",
       "      <td>en</td>\n",
       "    </tr>\n",
       "    <tr>\n",
       "      <th>4</th>\n",
       "      <td>Damn</td>\n",
       "      <td>None</td>\n",
       "      <td>1</td>\n",
       "      <td>unknown</td>\n",
       "    </tr>\n",
       "    <tr>\n",
       "      <th>5</th>\n",
       "      <td>Kenya you should proud of yr self❤❤❤❤</td>\n",
       "      <td>None</td>\n",
       "      <td>7</td>\n",
       "      <td>en</td>\n",
       "    </tr>\n",
       "    <tr>\n",
       "      <th>6</th>\n",
       "      <td>Well done team Kenya❤</td>\n",
       "      <td>None</td>\n",
       "      <td>4</td>\n",
       "      <td>id</td>\n",
       "    </tr>\n",
       "    <tr>\n",
       "      <th>7</th>\n",
       "      <td>This channel is racist! Report the channel, it...</td>\n",
       "      <td>None</td>\n",
       "      <td>24</td>\n",
       "      <td>en</td>\n",
       "    </tr>\n",
       "    <tr>\n",
       "      <th>8</th>\n",
       "      <td>Congs Kenya, lots of love from Uganda</td>\n",
       "      <td>None</td>\n",
       "      <td>7</td>\n",
       "      <td>en</td>\n",
       "    </tr>\n",
       "    <tr>\n",
       "      <th>9</th>\n",
       "      <td>Just WOW Kenya, what a run, what a stamina!</td>\n",
       "      <td>None</td>\n",
       "      <td>9</td>\n",
       "      <td>en</td>\n",
       "    </tr>\n",
       "  </tbody>\n",
       "</table>\n",
       "</div>"
      ],
      "text/plain": [
       "                                             comment response  comment_length  \\\n",
       "0  What an incredible victory. I agree the Kenyan...     None              20   \n",
       "1                                                  ❤     None               1   \n",
       "2  “Claudia is an amazonian goddess with a beauti...     None              12   \n",
       "3  Proud of my motherland Kenya ❤❤❤and Africa.at ...     None               8   \n",
       "4                                               Damn     None               1   \n",
       "5              Kenya you should proud of yr self❤❤❤❤     None               7   \n",
       "6                              Well done team Kenya❤     None               4   \n",
       "7  This channel is racist! Report the channel, it...     None              24   \n",
       "8              Congs Kenya, lots of love from Uganda     None               7   \n",
       "9        Just WOW Kenya, what a run, what a stamina!     None               9   \n",
       "\n",
       "  language  \n",
       "0       en  \n",
       "1  unknown  \n",
       "2       en  \n",
       "3       en  \n",
       "4  unknown  \n",
       "5       en  \n",
       "6       id  \n",
       "7       en  \n",
       "8       en  \n",
       "9       en  "
      ]
     },
     "execution_count": 24,
     "metadata": {},
     "output_type": "execute_result"
    }
   ],
   "source": [
    "df_combined. head(10)"
   ]
  },
  {
   "cell_type": "code",
   "execution_count": null,
   "id": "3af4eb60",
   "metadata": {},
   "outputs": [],
   "source": [
    "# Phrases with combined Swahili and English (Code-switched comments)\n",
    "\n",
    "def detect_code_switch(text):\n",
    "    try:\n",
    "        langs = detect_langs(text)\n",
    "        lang_set = {lang.lang for lang in langs}\n",
    "        return 'en' in lang_set and 'sw' in lang_set\n",
    "    except LangDetectException:\n",
    "        return False\n"
   ]
  },
  {
   "cell_type": "code",
   "execution_count": null,
   "id": "1b82e163",
   "metadata": {},
   "outputs": [],
   "source": [
    "df_combined[\"code_switched\"] = df_combined[\"comment\"].astype(str).apply(detect_code_switch)\n"
   ]
  },
  {
   "cell_type": "code",
   "execution_count": null,
   "id": "5d6bee4f",
   "metadata": {},
   "outputs": [
    {
     "name": "stdout",
     "output_type": "stream",
     "text": [
      "1.79% of comments are code-switched.\n"
     ]
    }
   ],
   "source": [
    "percentage = (df_combined[\"code_switched\"].sum() / len(df_combined)) * 100\n",
    "print(f\"{percentage:.2f}% of comments are code-switched.\")\n"
   ]
  },
  {
   "cell_type": "markdown",
   "id": "5aec6b04",
   "metadata": {},
   "source": [
    "## Findings from the Youtube data Inspection \n",
    "\n",
    "- There is Low prevalence of Swahili/Sheng (less than 0.5%) in the dataset.\n",
    "- This likely meant most comments are in English, or the Swahili/Sheng vocabulary list is too small to capture what's actually Swahili/Sheng.\n",
    "\n",
    "  Inspecting phrases with language switching show that : \n",
    "   - only a small fraction of the YouTube data contains both English and Swahili within the same comment."
   ]
  },
  {
   "cell_type": "markdown",
   "id": "ba49371c",
   "metadata": {},
   "source": [
    "## Introducing dataset with more swahili words \n",
    "\n",
    "I decided to load the allenai/c4 dataset from Hugging Face.\n"
   ]
  },
  {
   "cell_type": "code",
   "execution_count": null,
   "id": "a9d6687c",
   "metadata": {},
   "outputs": [],
   "source": [
    "!pip install -q datasets\n"
   ]
  },
  {
   "cell_type": "code",
   "execution_count": null,
   "id": "ac3937b8",
   "metadata": {},
   "outputs": [
    {
     "name": "stderr",
     "output_type": "stream",
     "text": [
      "c:\\Users\\helle\\anaconda3\\envs\\Learn-env2\\Lib\\site-packages\\tqdm\\auto.py:21: TqdmWarning: IProgress not found. Please update jupyter and ipywidgets. See https://ipywidgets.readthedocs.io/en/stable/user_install.html\n",
      "  from .autonotebook import tqdm as notebook_tqdm\n"
     ]
    }
   ],
   "source": [
    "from datasets import load_dataset"
   ]
  },
  {
   "cell_type": "code",
   "execution_count": null,
   "id": "ca3cf75a",
   "metadata": {},
   "outputs": [
    {
     "name": "stderr",
     "output_type": "stream",
     "text": [
      "Downloading data: 100%|██████████| 32/32 [09:07<00:00, 17.10s/files]\n",
      "Generating train split: 985654 examples [01:51, 8853.26 examples/s] \n",
      "Generating validation split: 994 examples [00:00, 6963.70 examples/s]\n"
     ]
    }
   ],
   "source": [
    "swahili_data = load_dataset(\"allenai/c4\", name=\"sw\", split=\"train[:1%]\")"
   ]
  },
  {
   "cell_type": "code",
   "execution_count": null,
   "id": "d76ea30e",
   "metadata": {},
   "outputs": [
    {
     "name": "stdout",
     "output_type": "stream",
     "text": [
      "                                             comment           timestamp  \\\n",
      "0  2016 - 75 Miaka Meiringen Air Base - AviaSpott... 2019-10-16 05:11:38   \n",
      "1  JENIFFER KYAKA (ODAMA): J FIML 4 LIFE: Lulu Ha... 2018-07-22 08:54:40   \n",
      "2  Imewekwa: July 13th, 2018\\n“Marufuku watoto ku... 2019-06-19 13:00:43   \n",
      "3  Kipengele Ngono na Ukahaba katika Cebu Wasicha... 2018-12-10 13:10:19   \n",
      "4  KINGOTANZANIA:: HABARI, PICHA NA MATANGAZO: MA... 2017-08-20 13:33:24   \n",
      "\n",
      "                                                 url  \n",
      "0  https://www.aviaspotter.it/75-jahre-militarflu...  \n",
      "1  http://odama1.blogspot.com/2015/12/lulu-haishi...  \n",
      "2  http://ilejedc.go.tz/new/marufuku-watoto-kuone...  \n",
      "3  https://sw.videochat.ph/sex-chat-roulette-phil...  \n",
      "4  http://kingotanzania.blogspot.com/2012/10/maua...  \n"
     ]
    }
   ],
   "source": [
    "# Converting sampled data to dataframe \n",
    "\n",
    "additional_sw_df = pd.DataFrame(swahili_data)\n",
    "\n",
    "additional_sw_df.rename(columns={\"text\": \"comment\"}, inplace=True)\n",
    "\n",
    "print(additional_sw_df.head())"
   ]
  },
  {
   "cell_type": "code",
   "execution_count": null,
   "id": "faab4ac3",
   "metadata": {},
   "outputs": [
    {
     "name": "stdout",
     "output_type": "stream",
     "text": [
      "Original YouTube rows: 26095\n",
      "CC100 (Swahili) sample rows: 9857\n",
      "Combined total rows: 35952\n"
     ]
    },
    {
     "data": {
      "text/html": [
       "<div>\n",
       "<style scoped>\n",
       "    .dataframe tbody tr th:only-of-type {\n",
       "        vertical-align: middle;\n",
       "    }\n",
       "\n",
       "    .dataframe tbody tr th {\n",
       "        vertical-align: top;\n",
       "    }\n",
       "\n",
       "    .dataframe thead th {\n",
       "        text-align: right;\n",
       "    }\n",
       "</style>\n",
       "<table border=\"1\" class=\"dataframe\">\n",
       "  <thead>\n",
       "    <tr style=\"text-align: right;\">\n",
       "      <th></th>\n",
       "      <th>comment</th>\n",
       "      <th>response</th>\n",
       "      <th>comment_length</th>\n",
       "      <th>language</th>\n",
       "      <th>code_switched</th>\n",
       "      <th>timestamp</th>\n",
       "      <th>url</th>\n",
       "    </tr>\n",
       "  </thead>\n",
       "  <tbody>\n",
       "    <tr>\n",
       "      <th>0</th>\n",
       "      <td>Am sorry 😭😭😭😭</td>\n",
       "      <td>None</td>\n",
       "      <td>3.0</td>\n",
       "      <td>en</td>\n",
       "      <td>False</td>\n",
       "      <td>NaT</td>\n",
       "      <td>NaN</td>\n",
       "    </tr>\n",
       "    <tr>\n",
       "      <th>1</th>\n",
       "      <td>For serah to invite Maureen to stay in her hou...</td>\n",
       "      <td>None</td>\n",
       "      <td>65.0</td>\n",
       "      <td>en</td>\n",
       "      <td>False</td>\n",
       "      <td>NaT</td>\n",
       "      <td>NaN</td>\n",
       "    </tr>\n",
       "    <tr>\n",
       "      <th>2</th>\n",
       "      <td>Jinsi Raia wa Mynmar Wanavyokabiliana na Kupan...</td>\n",
       "      <td>NaN</td>\n",
       "      <td>NaN</td>\n",
       "      <td>NaN</td>\n",
       "      <td>NaN</td>\n",
       "      <td>2020-01-29 08:33:36</td>\n",
       "      <td>https://sw.globalvoices.org/2016/05/jinsi-raia...</td>\n",
       "    </tr>\n",
       "    <tr>\n",
       "      <th>3</th>\n",
       "      <td>This is so painful....I can't help but cry wit...</td>\n",
       "      <td>None</td>\n",
       "      <td>52.0</td>\n",
       "      <td>en</td>\n",
       "      <td>False</td>\n",
       "      <td>NaT</td>\n",
       "      <td>NaN</td>\n",
       "    </tr>\n",
       "    <tr>\n",
       "      <th>4</th>\n",
       "      <td>Condom inaposuluhisha ugoni! | JamiiForums | T...</td>\n",
       "      <td>NaN</td>\n",
       "      <td>NaN</td>\n",
       "      <td>NaN</td>\n",
       "      <td>NaN</td>\n",
       "      <td>2018-01-19 11:57:16</td>\n",
       "      <td>https://www.jamiiforums.com/threads/condom-ina...</td>\n",
       "    </tr>\n",
       "  </tbody>\n",
       "</table>\n",
       "</div>"
      ],
      "text/plain": [
       "                                             comment response  comment_length  \\\n",
       "0                                      Am sorry 😭😭😭😭     None             3.0   \n",
       "1  For serah to invite Maureen to stay in her hou...     None            65.0   \n",
       "2  Jinsi Raia wa Mynmar Wanavyokabiliana na Kupan...      NaN             NaN   \n",
       "3  This is so painful....I can't help but cry wit...     None            52.0   \n",
       "4  Condom inaposuluhisha ugoni! | JamiiForums | T...      NaN             NaN   \n",
       "\n",
       "  language code_switched           timestamp  \\\n",
       "0       en         False                 NaT   \n",
       "1       en         False                 NaT   \n",
       "2      NaN           NaN 2020-01-29 08:33:36   \n",
       "3       en         False                 NaT   \n",
       "4      NaN           NaN 2018-01-19 11:57:16   \n",
       "\n",
       "                                                 url  \n",
       "0                                                NaN  \n",
       "1                                                NaN  \n",
       "2  https://sw.globalvoices.org/2016/05/jinsi-raia...  \n",
       "3                                                NaN  \n",
       "4  https://www.jamiiforums.com/threads/condom-ina...  "
      ]
     },
     "execution_count": 42,
     "metadata": {},
     "output_type": "execute_result"
    }
   ],
   "source": [
    "# merging the combined youtube dataset with the additional swahili dataset \n",
    "\n",
    "df_combined_extended = pd.concat([df_combined, additional_sw_df], ignore_index=True)\n",
    "                                 \n",
    "# Shuffling to ensure better mixing of both sources(Prevents model from overfitting to the structure/order of the data)\n",
    "\n",
    "df_combined_extended = df_combined_extended.sample(frac=1).reset_index(drop=True)\n",
    "\n",
    "\n",
    "print(f\"Original YouTube rows: {len(df_combined)}\")\n",
    "print(f\"CC100 (Swahili) sample rows: {len(additional_sw_df)}\")\n",
    "print(f\"Combined total rows: {len(df_combined_extended)}\")\n",
    "df_combined_extended.head()"
   ]
  },
  {
   "cell_type": "markdown",
   "id": "13da7b33",
   "metadata": {},
   "source": [
    "## Cleaning & Preprocessing combined dataset"
   ]
  },
  {
   "cell_type": "code",
   "execution_count": null,
   "id": "ff37dd77",
   "metadata": {},
   "outputs": [
    {
     "data": {
      "text/html": [
       "<div>\n",
       "<style scoped>\n",
       "    .dataframe tbody tr th:only-of-type {\n",
       "        vertical-align: middle;\n",
       "    }\n",
       "\n",
       "    .dataframe tbody tr th {\n",
       "        vertical-align: top;\n",
       "    }\n",
       "\n",
       "    .dataframe thead th {\n",
       "        text-align: right;\n",
       "    }\n",
       "</style>\n",
       "<table border=\"1\" class=\"dataframe\">\n",
       "  <thead>\n",
       "    <tr style=\"text-align: right;\">\n",
       "      <th></th>\n",
       "      <th>comment</th>\n",
       "      <th>response</th>\n",
       "      <th>comment_length</th>\n",
       "      <th>language</th>\n",
       "      <th>code_switched</th>\n",
       "      <th>timestamp</th>\n",
       "      <th>url</th>\n",
       "    </tr>\n",
       "  </thead>\n",
       "  <tbody>\n",
       "    <tr>\n",
       "      <th>0</th>\n",
       "      <td>am sorry 😭😭😭😭</td>\n",
       "      <td>None</td>\n",
       "      <td>3.0</td>\n",
       "      <td>en</td>\n",
       "      <td>False</td>\n",
       "      <td>NaT</td>\n",
       "      <td>NaN</td>\n",
       "    </tr>\n",
       "    <tr>\n",
       "      <th>1</th>\n",
       "      <td>for serah to invite maureen to stay in her hou...</td>\n",
       "      <td>None</td>\n",
       "      <td>65.0</td>\n",
       "      <td>en</td>\n",
       "      <td>False</td>\n",
       "      <td>NaT</td>\n",
       "      <td>NaN</td>\n",
       "    </tr>\n",
       "    <tr>\n",
       "      <th>2</th>\n",
       "      <td>jinsi raia wa mynmar wanavyokabiliana na kupan...</td>\n",
       "      <td>NaN</td>\n",
       "      <td>NaN</td>\n",
       "      <td>NaN</td>\n",
       "      <td>NaN</td>\n",
       "      <td>2020-01-29 08:33:36</td>\n",
       "      <td>https://sw.globalvoices.org/2016/05/jinsi-raia...</td>\n",
       "    </tr>\n",
       "    <tr>\n",
       "      <th>3</th>\n",
       "      <td>this is so painful....i can't help but cry wit...</td>\n",
       "      <td>None</td>\n",
       "      <td>52.0</td>\n",
       "      <td>en</td>\n",
       "      <td>False</td>\n",
       "      <td>NaT</td>\n",
       "      <td>NaN</td>\n",
       "    </tr>\n",
       "    <tr>\n",
       "      <th>4</th>\n",
       "      <td>condom inaposuluhisha ugoni! | jamiiforums | t...</td>\n",
       "      <td>NaN</td>\n",
       "      <td>NaN</td>\n",
       "      <td>NaN</td>\n",
       "      <td>NaN</td>\n",
       "      <td>2018-01-19 11:57:16</td>\n",
       "      <td>https://www.jamiiforums.com/threads/condom-ina...</td>\n",
       "    </tr>\n",
       "    <tr>\n",
       "      <th>5</th>\n",
       "      <td>i agree, both have serious esteem issues</td>\n",
       "      <td>None</td>\n",
       "      <td>7.0</td>\n",
       "      <td>en</td>\n",
       "      <td>False</td>\n",
       "      <td>NaT</td>\n",
       "      <td>NaN</td>\n",
       "    </tr>\n",
       "    <tr>\n",
       "      <th>6</th>\n",
       "      <td>juventus special thread | jamiiforums | the ho...</td>\n",
       "      <td>NaN</td>\n",
       "      <td>NaN</td>\n",
       "      <td>NaN</td>\n",
       "      <td>NaN</td>\n",
       "      <td>2017-01-23 19:11:59</td>\n",
       "      <td>https://www.jamiiforums.com/threads/juventus-s...</td>\n",
       "    </tr>\n",
       "    <tr>\n",
       "      <th>7</th>\n",
       "      <td>viongozi wa nchi za maziwa makuu wawekea vikwa...</td>\n",
       "      <td>NaN</td>\n",
       "      <td>NaN</td>\n",
       "      <td>NaN</td>\n",
       "      <td>NaN</td>\n",
       "      <td>2017-01-21 08:29:28</td>\n",
       "      <td>http://www.voaswahili.com/a/viongozi-wa-nchi-z...</td>\n",
       "    </tr>\n",
       "    <tr>\n",
       "      <th>8</th>\n",
       "      <td>that is a devil 👿 of a man,n the way the baby ...</td>\n",
       "      <td>None</td>\n",
       "      <td>36.0</td>\n",
       "      <td>en</td>\n",
       "      <td>False</td>\n",
       "      <td>NaT</td>\n",
       "      <td>NaN</td>\n",
       "    </tr>\n",
       "    <tr>\n",
       "      <th>9</th>\n",
       "      <td>ooh god of mercy, may your will be done in hea...</td>\n",
       "      <td>None</td>\n",
       "      <td>25.0</td>\n",
       "      <td>en</td>\n",
       "      <td>False</td>\n",
       "      <td>NaT</td>\n",
       "      <td>NaN</td>\n",
       "    </tr>\n",
       "  </tbody>\n",
       "</table>\n",
       "</div>"
      ],
      "text/plain": [
       "                                             comment response  comment_length  \\\n",
       "0                                      am sorry 😭😭😭😭     None             3.0   \n",
       "1  for serah to invite maureen to stay in her hou...     None            65.0   \n",
       "2  jinsi raia wa mynmar wanavyokabiliana na kupan...      NaN             NaN   \n",
       "3  this is so painful....i can't help but cry wit...     None            52.0   \n",
       "4  condom inaposuluhisha ugoni! | jamiiforums | t...      NaN             NaN   \n",
       "5           i agree, both have serious esteem issues     None             7.0   \n",
       "6  juventus special thread | jamiiforums | the ho...      NaN             NaN   \n",
       "7  viongozi wa nchi za maziwa makuu wawekea vikwa...      NaN             NaN   \n",
       "8  that is a devil 👿 of a man,n the way the baby ...     None            36.0   \n",
       "9  ooh god of mercy, may your will be done in hea...     None            25.0   \n",
       "\n",
       "  language code_switched           timestamp  \\\n",
       "0       en         False                 NaT   \n",
       "1       en         False                 NaT   \n",
       "2      NaN           NaN 2020-01-29 08:33:36   \n",
       "3       en         False                 NaT   \n",
       "4      NaN           NaN 2018-01-19 11:57:16   \n",
       "5       en         False                 NaT   \n",
       "6      NaN           NaN 2017-01-23 19:11:59   \n",
       "7      NaN           NaN 2017-01-21 08:29:28   \n",
       "8       en         False                 NaT   \n",
       "9       en         False                 NaT   \n",
       "\n",
       "                                                 url  \n",
       "0                                                NaN  \n",
       "1                                                NaN  \n",
       "2  https://sw.globalvoices.org/2016/05/jinsi-raia...  \n",
       "3                                                NaN  \n",
       "4  https://www.jamiiforums.com/threads/condom-ina...  \n",
       "5                                                NaN  \n",
       "6  https://www.jamiiforums.com/threads/juventus-s...  \n",
       "7  http://www.voaswahili.com/a/viongozi-wa-nchi-z...  \n",
       "8                                                NaN  \n",
       "9                                                NaN  "
      ]
     },
     "execution_count": 44,
     "metadata": {},
     "output_type": "execute_result"
    }
   ],
   "source": [
    "# Drop rows where 'comment' is completely missing\n",
    "df_combined_extended = df_combined_extended.dropna(subset=['comment'])\n",
    "\n",
    "# Strip, lowercase, and remove URLs & excess whitespace\n",
    "\n",
    "def clean_comment(text):\n",
    "    text = str(text).lower().strip()  \n",
    "    text = re.sub(r\"http\\S+|www.\\S+\", \"\", text)  \n",
    "    text = re.sub(r'\\s+', ' ', text) \n",
    "    return text\n",
    "\n",
    "df_combined_extended['comment'] = df_combined_extended['comment'].apply(clean_comment)\n",
    "\n",
    "df_combined_extended. head(10)"
   ]
  },
  {
   "cell_type": "code",
   "execution_count": null,
   "id": "f5b739d6",
   "metadata": {},
   "outputs": [],
   "source": [
    "# Recalculating comment length (Helps analyze and filter comments (e.g., remove extremely short or long ones).\n",
    "\n",
    "\n",
    "df_combined_extended['comment_length'] = df_combined_extended['comment'].apply(lambda x: len(x.split()))\n",
    "\n",
    "# Detecting language only if missing\n",
    "def safe_detect(text):\n",
    "    try:\n",
    "        return detect(text)\n",
    "    except LangDetectException:\n",
    "        return \"unknown\"\n",
    "\n",
    "df_combined_extended['language'] = df_combined_extended['language'].fillna(df_combined_extended['comment'].apply(safe_detect))\n",
    "\n"
   ]
  },
  {
   "cell_type": "code",
   "execution_count": null,
   "id": "d99d4985",
   "metadata": {},
   "outputs": [
    {
     "data": {
      "text/html": [
       "<div>\n",
       "<style scoped>\n",
       "    .dataframe tbody tr th:only-of-type {\n",
       "        vertical-align: middle;\n",
       "    }\n",
       "\n",
       "    .dataframe tbody tr th {\n",
       "        vertical-align: top;\n",
       "    }\n",
       "\n",
       "    .dataframe thead th {\n",
       "        text-align: right;\n",
       "    }\n",
       "</style>\n",
       "<table border=\"1\" class=\"dataframe\">\n",
       "  <thead>\n",
       "    <tr style=\"text-align: right;\">\n",
       "      <th></th>\n",
       "      <th>comment</th>\n",
       "      <th>response</th>\n",
       "      <th>comment_length</th>\n",
       "      <th>language</th>\n",
       "      <th>code_switched</th>\n",
       "    </tr>\n",
       "  </thead>\n",
       "  <tbody>\n",
       "    <tr>\n",
       "      <th>0</th>\n",
       "      <td>am sorry 😭😭😭😭</td>\n",
       "      <td>no_response</td>\n",
       "      <td>3</td>\n",
       "      <td>en</td>\n",
       "      <td>False</td>\n",
       "    </tr>\n",
       "    <tr>\n",
       "      <th>1</th>\n",
       "      <td>for serah to invite maureen to stay in her hou...</td>\n",
       "      <td>no_response</td>\n",
       "      <td>65</td>\n",
       "      <td>en</td>\n",
       "      <td>False</td>\n",
       "    </tr>\n",
       "    <tr>\n",
       "      <th>2</th>\n",
       "      <td>jinsi raia wa mynmar wanavyokabiliana na kupan...</td>\n",
       "      <td>no_response</td>\n",
       "      <td>382</td>\n",
       "      <td>sw</td>\n",
       "      <td>False</td>\n",
       "    </tr>\n",
       "    <tr>\n",
       "      <th>3</th>\n",
       "      <td>this is so painful....i can't help but cry wit...</td>\n",
       "      <td>no_response</td>\n",
       "      <td>52</td>\n",
       "      <td>en</td>\n",
       "      <td>False</td>\n",
       "    </tr>\n",
       "    <tr>\n",
       "      <th>4</th>\n",
       "      <td>condom inaposuluhisha ugoni! | jamiiforums | t...</td>\n",
       "      <td>no_response</td>\n",
       "      <td>307</td>\n",
       "      <td>sw</td>\n",
       "      <td>False</td>\n",
       "    </tr>\n",
       "    <tr>\n",
       "      <th>5</th>\n",
       "      <td>i agree, both have serious esteem issues</td>\n",
       "      <td>no_response</td>\n",
       "      <td>7</td>\n",
       "      <td>en</td>\n",
       "      <td>False</td>\n",
       "    </tr>\n",
       "    <tr>\n",
       "      <th>6</th>\n",
       "      <td>juventus special thread | jamiiforums | the ho...</td>\n",
       "      <td>no_response</td>\n",
       "      <td>1629</td>\n",
       "      <td>sw</td>\n",
       "      <td>False</td>\n",
       "    </tr>\n",
       "    <tr>\n",
       "      <th>7</th>\n",
       "      <td>viongozi wa nchi za maziwa makuu wawekea vikwa...</td>\n",
       "      <td>no_response</td>\n",
       "      <td>392</td>\n",
       "      <td>sw</td>\n",
       "      <td>False</td>\n",
       "    </tr>\n",
       "    <tr>\n",
       "      <th>8</th>\n",
       "      <td>that is a devil 👿 of a man,n the way the baby ...</td>\n",
       "      <td>no_response</td>\n",
       "      <td>36</td>\n",
       "      <td>en</td>\n",
       "      <td>False</td>\n",
       "    </tr>\n",
       "    <tr>\n",
       "      <th>9</th>\n",
       "      <td>ooh god of mercy, may your will be done in hea...</td>\n",
       "      <td>no_response</td>\n",
       "      <td>25</td>\n",
       "      <td>en</td>\n",
       "      <td>False</td>\n",
       "    </tr>\n",
       "    <tr>\n",
       "      <th>10</th>\n",
       "      <td>huyu mwanaume hana pesa ni ya diana</td>\n",
       "      <td>no_response</td>\n",
       "      <td>7</td>\n",
       "      <td>sw</td>\n",
       "      <td>False</td>\n",
       "    </tr>\n",
       "    <tr>\n",
       "      <th>11</th>\n",
       "      <td>over my dead body i'm not sharing my man 😭😢💙💛👊</td>\n",
       "      <td>no_response</td>\n",
       "      <td>10</td>\n",
       "      <td>en</td>\n",
       "      <td>False</td>\n",
       "    </tr>\n",
       "    <tr>\n",
       "      <th>12</th>\n",
       "      <td>wueeeh....... to each their own.</td>\n",
       "      <td>no_response</td>\n",
       "      <td>5</td>\n",
       "      <td>en</td>\n",
       "      <td>False</td>\n",
       "    </tr>\n",
       "    <tr>\n",
       "      <th>13</th>\n",
       "      <td>staying together is a no... kila mtu akae kwak...</td>\n",
       "      <td>no_response</td>\n",
       "      <td>28</td>\n",
       "      <td>en</td>\n",
       "      <td>True</td>\n",
       "    </tr>\n",
       "    <tr>\n",
       "      <th>14</th>\n",
       "      <td>nufuvi(swot analysis), tathmini muhimu kabla h...</td>\n",
       "      <td>no_response</td>\n",
       "      <td>851</td>\n",
       "      <td>sw</td>\n",
       "      <td>False</td>\n",
       "    </tr>\n",
       "  </tbody>\n",
       "</table>\n",
       "</div>"
      ],
      "text/plain": [
       "                                              comment     response  \\\n",
       "0                                       am sorry 😭😭😭😭  no_response   \n",
       "1   for serah to invite maureen to stay in her hou...  no_response   \n",
       "2   jinsi raia wa mynmar wanavyokabiliana na kupan...  no_response   \n",
       "3   this is so painful....i can't help but cry wit...  no_response   \n",
       "4   condom inaposuluhisha ugoni! | jamiiforums | t...  no_response   \n",
       "5            i agree, both have serious esteem issues  no_response   \n",
       "6   juventus special thread | jamiiforums | the ho...  no_response   \n",
       "7   viongozi wa nchi za maziwa makuu wawekea vikwa...  no_response   \n",
       "8   that is a devil 👿 of a man,n the way the baby ...  no_response   \n",
       "9   ooh god of mercy, may your will be done in hea...  no_response   \n",
       "10                huyu mwanaume hana pesa ni ya diana  no_response   \n",
       "11     over my dead body i'm not sharing my man 😭😢💙💛👊  no_response   \n",
       "12                   wueeeh....... to each their own.  no_response   \n",
       "13  staying together is a no... kila mtu akae kwak...  no_response   \n",
       "14  nufuvi(swot analysis), tathmini muhimu kabla h...  no_response   \n",
       "\n",
       "    comment_length language  code_switched  \n",
       "0                3       en          False  \n",
       "1               65       en          False  \n",
       "2              382       sw          False  \n",
       "3               52       en          False  \n",
       "4              307       sw          False  \n",
       "5                7       en          False  \n",
       "6             1629       sw          False  \n",
       "7              392       sw          False  \n",
       "8               36       en          False  \n",
       "9               25       en          False  \n",
       "10               7       sw          False  \n",
       "11              10       en          False  \n",
       "12               5       en          False  \n",
       "13              28       en           True  \n",
       "14             851       sw          False  "
      ]
     },
     "execution_count": 85,
     "metadata": {},
     "output_type": "execute_result"
    }
   ],
   "source": [
    "# Filling  missing response column with None (if it exists) - This helps create a language-specific chatbot that doesn’t train on unrelated or noisy data\n",
    "\n",
    "if 'response' in df_combined_extended.columns:\n",
    "    df_combined_extended['response'] = df_combined_extended['response'].fillna('no_response')\n",
    "\n",
    "\n",
    "# Filling  missing code-switched flags with False\n",
    "if 'code_switched' in df_combined_extended.columns:\n",
    "    df_combined_extended['code_switched'] = df_combined_extended['code_switched'].fillna(False)\n",
    "\n",
    "# dropping  unnecessary columns \n",
    "df_combined_extended = df_combined_extended.drop(columns=['timestamp', 'url'], errors='ignore')\n",
    "\n",
    "# 8. Resetting index\n",
    "df_combined_extended.reset_index(drop=True, inplace=True)\n",
    "\n",
    "df_combined_extended.head(15)\n",
    "## Preparing input-reponse pairs from the Cornell dataset.\n",
    "\n"
   ]
  },
  {
   "cell_type": "code",
   "execution_count": null,
   "id": "912f47bb",
   "metadata": {},
   "outputs": [],
   "source": [
    "\n",
    "# Defining file paths\n",
    "lines_path = \"original-data/movie_lines.txt\"\n",
    "conversations_path = \"original-data/movie_conversations.txt\"\n",
    "\n",
    "\n",
    "# Loading  and parsing  movie_lines.txt\n",
    "lines = {}\n",
    "with open(lines_path, encoding='ISO-8859-1') as f:\n",
    "    for line in f:\n",
    "        parts = line.strip().split(\" +++$+++ \")\n",
    "        if len(parts) == 5:\n",
    "            line_id, _, _, _, text = parts\n",
    "            lines[line_id] = text\n",
    "\n",
    "\n",
    "# Loading and parsing movie_conversations.txt\n",
    "\n",
    "conversations = []\n",
    "with open(conversations_path, encoding='ISO-8859-1') as f:\n",
    "    for line in f:\n",
    "        parts = line.strip().split(\" +++$+++ \")\n",
    "        if len(parts) == 4:\n",
    "            utterance_ids = ast.literal_eval(parts[3])  # Converting string list to actual list\n",
    "            conversations.append(utterance_ids)\n",
    "\n"
   ]
  },
  {
   "cell_type": "code",
   "execution_count": null,
   "id": "ba1b5c59",
   "metadata": {},
   "outputs": [
    {
     "name": "stdout",
     "output_type": "stream",
     "text": [
      "                                             comment  \\\n",
      "0  Can we make this quick?  Roxanne Korrine and A...   \n",
      "1  Well, I thought we'd start with pronunciation,...   \n",
      "2  Not the hacking and gagging and spitting part....   \n",
      "3  You're asking me out.  That's so cute. What's ...   \n",
      "4  No, no, it's my fault -- we didn't have a prop...   \n",
      "\n",
      "                                            response  \n",
      "0  Well, I thought we'd start with pronunciation,...  \n",
      "1  Not the hacking and gagging and spitting part....  \n",
      "2  Okay... then how 'bout we try out some French ...  \n",
      "3                                         Forget it.  \n",
      "4                                           Cameron.  \n"
     ]
    }
   ],
   "source": [
    "# Creating comment-response pairs\n",
    "\n",
    "pairs = []\n",
    "for conv in conversations:\n",
    "    for i in range(len(conv) - 1):\n",
    "        input_id = conv[i]\n",
    "        response_id = conv[i + 1]\n",
    "\n",
    "        input_text = lines.get(input_id)\n",
    "        response_text = lines.get(response_id)\n",
    "\n",
    "        if input_text and response_text:\n",
    "            pairs.append((input_text, response_text))\n",
    "\n",
    "# Creating a DataFrame\n",
    "df_cornell = pd.DataFrame(pairs, columns=[\"comment\", \"response\"])\n",
    "print(df_cornell.head())\n"
   ]
  },
  {
   "cell_type": "markdown",
   "id": "17a00045",
   "metadata": {},
   "source": [
    "## Cleaning paired Dataframe"
   ]
  },
  {
   "cell_type": "code",
   "execution_count": null,
   "id": "3b7b934c",
   "metadata": {},
   "outputs": [
    {
     "name": "stdout",
     "output_type": "stream",
     "text": [
      "                                                  comment  \\\n",
      "46715                      From the club You didnt answer   \n",
      "134069  Okay Im delighted to have someone to talk to a...   \n",
      "136570                           250000 right off the top   \n",
      "217458                                   Who did Mrs Feur   \n",
      "73975                                          Smile good   \n",
      "\n",
      "                                                 response  \n",
      "46715   I must have fallen asleep I was asleep when yo...  \n",
      "134069                      Im such a heel Howd you guess  \n",
      "136570                                     Is he straight  \n",
      "217458                               Maybe Point isnot me  \n",
      "73975                                                 Yes  \n"
     ]
    }
   ],
   "source": [
    "\n",
    "def clean_text(text, remove_emojis=True):\n",
    "    if pd.isnull(text):\n",
    "        return \"\"\n",
    "        text = text.lower()   # Lowercase\n",
    "\n",
    "    text = text.translate(str.maketrans('', '', string.punctuation))     # Removing punctuation\n",
    "\n",
    "    text = re.sub(r'\\s+', ' ', text).strip()     # Removing extra whitespace\n",
    "\n",
    "    return text\n",
    "\n",
    "df_cornell['comment'] = df_cornell['comment'].apply(lambda x: clean_text(x))\n",
    "df_cornell['response'] = df_cornell['response'].apply(lambda x: clean_text(x))\n",
    "\n",
    "df_cornell = df_cornell[(df_cornell['comment'].str.strip() != '') & (df_cornell['response'].str.strip() != '')] #Dropping rows with empty comments or responses\n",
    "\n",
    "print(df_cornell.sample(5))\n"
   ]
  },
  {
   "cell_type": "markdown",
   "id": "b6331621",
   "metadata": {},
   "source": [
    "# Modeling \n",
    " "
   ]
  },
  {
   "cell_type": "code",
   "execution_count": null,
   "id": "ac7b8c87",
   "metadata": {},
   "outputs": [],
   "source": [
    "from sentence_transformers import SentenceTransformer\n",
    "from sklearn.metrics.pairwise import cosine_similarity"
   ]
  },
  {
   "cell_type": "code",
   "execution_count": null,
   "id": "0ecdc861",
   "metadata": {},
   "outputs": [
    {
     "data": {
      "text/html": [
       "<div>\n",
       "<style scoped>\n",
       "    .dataframe tbody tr th:only-of-type {\n",
       "        vertical-align: middle;\n",
       "    }\n",
       "\n",
       "    .dataframe tbody tr th {\n",
       "        vertical-align: top;\n",
       "    }\n",
       "\n",
       "    .dataframe thead th {\n",
       "        text-align: right;\n",
       "    }\n",
       "</style>\n",
       "<table border=\"1\" class=\"dataframe\">\n",
       "  <thead>\n",
       "    <tr style=\"text-align: right;\">\n",
       "      <th></th>\n",
       "      <th>comment</th>\n",
       "      <th>response</th>\n",
       "      <th>comment_length</th>\n",
       "      <th>language</th>\n",
       "      <th>code_switched</th>\n",
       "    </tr>\n",
       "  </thead>\n",
       "  <tbody>\n",
       "    <tr>\n",
       "      <th>0</th>\n",
       "      <td>am sorry 😭😭😭😭</td>\n",
       "      <td>no_response</td>\n",
       "      <td>3</td>\n",
       "      <td>en</td>\n",
       "      <td>False</td>\n",
       "    </tr>\n",
       "    <tr>\n",
       "      <th>1</th>\n",
       "      <td>for serah to invite maureen to stay in her hou...</td>\n",
       "      <td>no_response</td>\n",
       "      <td>65</td>\n",
       "      <td>en</td>\n",
       "      <td>False</td>\n",
       "    </tr>\n",
       "    <tr>\n",
       "      <th>2</th>\n",
       "      <td>jinsi raia wa mynmar wanavyokabiliana na kupan...</td>\n",
       "      <td>no_response</td>\n",
       "      <td>382</td>\n",
       "      <td>sw</td>\n",
       "      <td>False</td>\n",
       "    </tr>\n",
       "    <tr>\n",
       "      <th>3</th>\n",
       "      <td>this is so painful....i can't help but cry wit...</td>\n",
       "      <td>no_response</td>\n",
       "      <td>52</td>\n",
       "      <td>en</td>\n",
       "      <td>False</td>\n",
       "    </tr>\n",
       "    <tr>\n",
       "      <th>4</th>\n",
       "      <td>condom inaposuluhisha ugoni! | jamiiforums | t...</td>\n",
       "      <td>no_response</td>\n",
       "      <td>307</td>\n",
       "      <td>sw</td>\n",
       "      <td>False</td>\n",
       "    </tr>\n",
       "  </tbody>\n",
       "</table>\n",
       "</div>"
      ],
      "text/plain": [
       "                                             comment     response  \\\n",
       "0                                      am sorry 😭😭😭😭  no_response   \n",
       "1  for serah to invite maureen to stay in her hou...  no_response   \n",
       "2  jinsi raia wa mynmar wanavyokabiliana na kupan...  no_response   \n",
       "3  this is so painful....i can't help but cry wit...  no_response   \n",
       "4  condom inaposuluhisha ugoni! | jamiiforums | t...  no_response   \n",
       "\n",
       "   comment_length language  code_switched  \n",
       "0               3       en          False  \n",
       "1              65       en          False  \n",
       "2             382       sw          False  \n",
       "3              52       en          False  \n",
       "4             307       sw          False  "
      ]
     },
     "execution_count": 53,
     "metadata": {},
     "output_type": "execute_result"
    }
   ],
   "source": [
    "df_combined_extended.head(5)"
   ]
  },
  {
   "cell_type": "code",
   "execution_count": null,
   "id": "95521523",
   "metadata": {},
   "outputs": [
    {
     "data": {
      "text/html": [
       "<div>\n",
       "<style scoped>\n",
       "    .dataframe tbody tr th:only-of-type {\n",
       "        vertical-align: middle;\n",
       "    }\n",
       "\n",
       "    .dataframe tbody tr th {\n",
       "        vertical-align: top;\n",
       "    }\n",
       "\n",
       "    .dataframe thead th {\n",
       "        text-align: right;\n",
       "    }\n",
       "</style>\n",
       "<table border=\"1\" class=\"dataframe\">\n",
       "  <thead>\n",
       "    <tr style=\"text-align: right;\">\n",
       "      <th></th>\n",
       "      <th>comment</th>\n",
       "      <th>response</th>\n",
       "    </tr>\n",
       "  </thead>\n",
       "  <tbody>\n",
       "    <tr>\n",
       "      <th>0</th>\n",
       "      <td>Can we make this quick Roxanne Korrine and And...</td>\n",
       "      <td>Well I thought wed start with pronunciation if...</td>\n",
       "    </tr>\n",
       "    <tr>\n",
       "      <th>1</th>\n",
       "      <td>Well I thought wed start with pronunciation if...</td>\n",
       "      <td>Not the hacking and gagging and spitting part ...</td>\n",
       "    </tr>\n",
       "    <tr>\n",
       "      <th>2</th>\n",
       "      <td>Not the hacking and gagging and spitting part ...</td>\n",
       "      <td>Okay then how bout we try out some French cuis...</td>\n",
       "    </tr>\n",
       "    <tr>\n",
       "      <th>3</th>\n",
       "      <td>Youre asking me out Thats so cute Whats your n...</td>\n",
       "      <td>Forget it</td>\n",
       "    </tr>\n",
       "    <tr>\n",
       "      <th>4</th>\n",
       "      <td>No no its my fault we didnt have a proper intr...</td>\n",
       "      <td>Cameron</td>\n",
       "    </tr>\n",
       "  </tbody>\n",
       "</table>\n",
       "</div>"
      ],
      "text/plain": [
       "                                             comment  \\\n",
       "0  Can we make this quick Roxanne Korrine and And...   \n",
       "1  Well I thought wed start with pronunciation if...   \n",
       "2  Not the hacking and gagging and spitting part ...   \n",
       "3  Youre asking me out Thats so cute Whats your n...   \n",
       "4  No no its my fault we didnt have a proper intr...   \n",
       "\n",
       "                                            response  \n",
       "0  Well I thought wed start with pronunciation if...  \n",
       "1  Not the hacking and gagging and spitting part ...  \n",
       "2  Okay then how bout we try out some French cuis...  \n",
       "3                                          Forget it  \n",
       "4                                            Cameron  "
      ]
     },
     "execution_count": 54,
     "metadata": {},
     "output_type": "execute_result"
    }
   ],
   "source": [
    "df_cornell.head(5)"
   ]
  },
  {
   "cell_type": "code",
   "execution_count": null,
   "id": "ff931fa0",
   "metadata": {},
   "outputs": [],
   "source": [
    "df_combined_extended_clean = df_combined_extended[df_combined_extended['response'] != 'no_response'].copy()\n",
    "df_combined_extended_clean = df_combined_extended_clean[['comment', 'response']].rename(columns={'comment': 'prompt'})\n"
   ]
  },
  {
   "cell_type": "code",
   "execution_count": null,
   "id": "c0e091e0",
   "metadata": {},
   "outputs": [],
   "source": [
    "# Renaming df_cornell columns \n",
    "\n",
    "df_cornell_clean = df_cornell.rename(columns={'comment': 'prompt'})\n"
   ]
  },
  {
   "cell_type": "code",
   "execution_count": null,
   "id": "20e5a397",
   "metadata": {},
   "outputs": [],
   "source": [
    "# Combining datasets \n",
    "df_all = pd.concat([df_cornell_clean, df_combined_extended_clean], ignore_index=True)\n",
    "df_all = df_all.dropna(subset=['prompt', 'response']).reset_index(drop=True)\n"
   ]
  },
  {
   "cell_type": "markdown",
   "id": "1f342d94",
   "metadata": {},
   "source": [
    "## Retrieval Model"
   ]
  },
  {
   "cell_type": "markdown",
   "id": "35b726c7",
   "metadata": {},
   "source": [
    "Explaining the retrieval  model \n",
    "\n",
    "Load a sentence embedding model (all-MiniLM-L6-v2).\n",
    "\n",
    "Encoded the prompts (questions) into vector embeddings.\n",
    "\n",
    "Store those embeddings in a FAISS index.\n",
    "\n",
    "    What is FAISS Index?\n",
    "    FAISS stands for Facebook AI Similarity Search. It's an open-source library developed by Meta AI for efficient similarity search and clustering of dense vectors.\n",
    "    - It's super fast even with millions of vectors\n",
    "    - It supports approximate nearest neighbors, which trade a tiny bit of accuracy for huge speed\n",
    "\n",
    "Load the responses in a list.\n",
    "\n",
    "At runtime, when a user sends a message, the model:\n",
    "\n",
    "Embeds the user message,\n",
    "\n",
    "Compares it to the saved vectors (using cosine similarity or L2 distance),\n",
    "\n",
    "Returns the most similar response.\n",
    "\n",
    "| Data Source            | Role in Retrieval Model                                                                    |\n",
    "| ---------------------- | ------------------------------------------------------------------------------------------ |\n",
    "| YouTube & Hugging Face | Adds **Swahili/mixed-language examples** to improve understanding and vocabulary coverage. |\n",
    "| Movie Dialogues        | Adds **conversational flow**, helps bot feel more natural.                                 |\n",
    "| Your Pairing Work      | Created **prompt-response pairs** for the model to compare against.                        |\n",
    "| Sentence Transformer   | Turns all inputs into **meaning-based vectors** (even across languages).                   |\n",
    "\n",
    "\n"
   ]
  },
  {
   "cell_type": "code",
   "execution_count": null,
   "id": "85b23b96",
   "metadata": {},
   "outputs": [
    {
     "name": "stdout",
     "output_type": "stream",
     "text": [
      "Collecting faiss-cpu\n",
      "  Using cached faiss_cpu-1.11.0.post1-cp311-cp311-win_amd64.whl.metadata (5.1 kB)\n",
      "Requirement already satisfied: numpy<3.0,>=1.25.0 in c:\\users\\helle\\anaconda3\\envs\\learn-env2\\lib\\site-packages (from faiss-cpu) (1.26.4)\n",
      "Requirement already satisfied: packaging in c:\\users\\helle\\anaconda3\\envs\\learn-env2\\lib\\site-packages (from faiss-cpu) (23.2)\n",
      "Using cached faiss_cpu-1.11.0.post1-cp311-cp311-win_amd64.whl (14.9 MB)\n",
      "Installing collected packages: faiss-cpu\n",
      "Successfully installed faiss-cpu-1.11.0.post1\n"
     ]
    }
   ],
   "source": [
    "!pip install faiss-cpu\n"
   ]
  },
  {
   "cell_type": "code",
   "execution_count": null,
   "id": "2c1a6f28",
   "metadata": {},
   "outputs": [],
   "source": [
    "import faiss\n"
   ]
  },
  {
   "cell_type": "code",
   "execution_count": null,
   "id": "3dbc1ceb",
   "metadata": {},
   "outputs": [
    {
     "name": "stderr",
     "output_type": "stream",
     "text": [
      "Batches: 100%|██████████| 6930/6930 [44:50<00:00,  2.58it/s]  \n"
     ]
    }
   ],
   "source": [
    "#model\n",
    "#a pre-trained sentence transformer model called all-MiniLM-L6-v2\n",
    "\n",
    "model = SentenceTransformer('sentence-transformers/all-MiniLM-L6-v2')\n",
    "\n",
    "corpus_embeddings = model.encode(df_all['prompt'].tolist(), show_progress_bar=True)\n",
    "corpus_embeddings = np.array(corpus_embeddings).astype('float32')\n",
    "\n",
    "# Creating FAISS index for fast similarity search\n",
    "dimension = corpus_embeddings.shape[1]\n",
    "index = faiss.IndexFlatL2(dimension)\n",
    "index.add(corpus_embeddings)\n"
   ]
  },
  {
   "cell_type": "code",
   "execution_count": null,
   "id": "0c88bad0",
   "metadata": {},
   "outputs": [
    {
     "name": "stdout",
     "output_type": "stream",
     "text": [
      "Retrieval chatbot setup complete\n"
     ]
    }
   ],
   "source": [
    "import json\n",
    "\n",
    "# Save FAISS index\n",
    "faiss.write_index(index, 'chatbot_index.faiss')\n",
    "\n",
    "# Save responses to JSON \n",
    "with open('chatbot_responses.json', 'w', encoding='utf-8') as f:\n",
    "    json.dump(df_all['response'].tolist(), f, ensure_ascii=False, indent=2)\n",
    "\n",
    "print(\"Retrieval chatbot setup complete\")\n"
   ]
  },
  {
   "cell_type": "code",
   "execution_count": null,
   "id": "92bb0c95",
   "metadata": {},
   "outputs": [],
   "source": [
    "# Load the saved responses\n",
    "\n",
    "with open('chatbot_responses.json', 'r', encoding='utf-8') as f:\n",
    "    responses = json.load(f)\n"
   ]
  },
  {
   "cell_type": "code",
   "execution_count": null,
   "id": "aafdd0f0",
   "metadata": {},
   "outputs": [],
   "source": [
    "def get_response(user_input, top_k=1):\n",
    "    query_embedding = model.encode([user_input]).astype('float32')\n",
    "    distances, indices = index.search(query_embedding, top_k)\n",
    "    return [responses[i] for i in indices[0]]\n"
   ]
  },
  {
   "cell_type": "code",
   "execution_count": null,
   "id": "d84df818",
   "metadata": {},
   "outputs": [
    {
     "name": "stdout",
     "output_type": "stream",
     "text": [
      "User: how are you feeling today?\n",
      "Bot: I feel much better Thank you for asking And you\n"
     ]
    }
   ],
   "source": [
    "user_input = \"how are you feeling today?\"\n",
    "top_response = get_response(user_input, top_k=1)\n",
    "\n",
    "print(\"User:\", user_input)\n",
    "print(\"Bot:\", top_response[0])\n"
   ]
  },
  {
   "cell_type": "code",
   "execution_count": null,
   "id": "ee1e0a8e",
   "metadata": {},
   "outputs": [
    {
     "name": "stdout",
     "output_type": "stream",
     "text": [
      "\n",
      "User: Hi there!\n",
      "Bot: Hi\n",
      "\n",
      "User: What's your name?\n",
      "Bot: Leeloo Minai LekararibaLaminaiTchai Ekbat De Sebat\n",
      "\n",
      "User: Tell me something funny\n",
      "Bot: What the hell\n",
      "\n",
      "User: Habari yako?\n",
      "Bot: Good Very good\n",
      "\n",
      "User: Unaweza kunisaidia?\n",
      "Bot: No Our informer in McCluskeys precinct Tonight at 800 he signed out for Louis Restaurant in the Bronx Anyone know it\n",
      "\n",
      "User: I feel sad today\n",
      "Bot: You know how you feel when you come out of a bad hangover Like your eyes can open a little bit more\n"
     ]
    }
   ],
   "source": [
    "test_inputs = [\n",
    "    \"Hi there!\",\n",
    "    \"What's your name?\",\n",
    "    \"Tell me something funny\",\n",
    "    \"Habari yako?\",\n",
    "    \"Unaweza kunisaidia?\",\n",
    "    \"I feel sad today\"\n",
    "]\n",
    "\n",
    "for inp in test_inputs:\n",
    "    print(f\"\\nUser: {inp}\")\n",
    "    print(\"Bot:\", get_response(inp)[0])\n"
   ]
  },
  {
   "cell_type": "code",
   "execution_count": null,
   "id": "a0c1998c",
   "metadata": {},
   "outputs": [],
   "source": [
    "\n",
    "def get_response(user_input, top_k=1):\n",
    "    try:\n",
    "        # Detect language (Swahili, English, etc.)\n",
    "        lang = detect(user_input)\n",
    "    except:\n",
    "        lang = \"unknown\"\n",
    "\n",
    "    # Print or log detected language (optional)\n",
    "    print(f\"Detected language: {lang}\")\n",
    "\n",
    "    # Convert input to vector and search for nearest response\n",
    "    query_embedding = model.encode([user_input]).astype('float32')\n",
    "    distances, indices = index.search(query_embedding, top_k)\n",
    "\n",
    "    # Fetch and return responses\n",
    "    return [responses[i] for i in indices[0]]\n"
   ]
  },
  {
   "cell_type": "code",
   "execution_count": null,
   "id": "34a61b0e",
   "metadata": {},
   "outputs": [
    {
     "name": "stdout",
     "output_type": "stream",
     "text": [
      "Detected language: en\n",
      "\n",
      "User: How are you doing today?\n",
      "Bot: Its another day I think Im alright\n",
      "Detected language: sw\n",
      "\n",
      "User: Habari yako?\n",
      "Bot: Good Very good\n",
      "Detected language: id\n",
      "\n",
      "User: Naomba refund ya order yangu\n",
      "Bot: Tuttle\n",
      "Detected language: sw\n",
      "\n",
      "User: Je, unaweza kuniambia delivery iko wapi?\n",
      "Bot: You know exactly where they are\n"
     ]
    }
   ],
   "source": [
    "# Test input examples\n",
    "test_inputs = [\n",
    "    \"How are you doing today?\",          # English\n",
    "    \"Habari yako?\",                      # Swahili\n",
    "    \"Naomba refund ya order yangu\",     # Code-switch (Swahili + English)\n",
    "    \"Je, unaweza kuniambia delivery iko wapi?\",  # Mixed\n",
    "]\n",
    "\n",
    "for user_input in test_inputs:\n",
    "    responses_output = get_response(user_input)\n",
    "    print(f\"\\nUser: {user_input}\")\n",
    "    print(f\"Bot: {responses_output[0]}\")\n"
   ]
  },
  {
   "cell_type": "markdown",
   "id": "0d902e70",
   "metadata": {},
   "source": [
    "## Fine tuning "
   ]
  },
  {
   "cell_type": "markdown",
   "id": "77e43d00",
   "metadata": {},
   "source": [
    "# Loading Sample data"
   ]
  },
  {
   "cell_type": "code",
   "execution_count": 3,
   "id": "9d52ed4e",
   "metadata": {},
   "outputs": [
    {
     "name": "stderr",
     "output_type": "stream",
     "text": [
      "c:\\Users\\helle\\anaconda3\\envs\\Learn-env2\\Lib\\site-packages\\tqdm\\auto.py:21: TqdmWarning: IProgress not found. Please update jupyter and ipywidgets. See https://ipywidgets.readthedocs.io/en/stable/user_install.html\n",
      "  from .autonotebook import tqdm as notebook_tqdm\n"
     ]
    },
    {
     "name": "stdout",
     "output_type": "stream",
     "text": [
      "{'output': 'I would love the chance to review the account and provide assistance.', 'input': 'is the worst customer service'}\n"
     ]
    }
   ],
   "source": [
    "from datasets import load_dataset\n",
    "\n",
    "ds = load_dataset(\"MohammadOthman/mo-customer-support-tweets-945k\", split=\"train\")\n",
    "\n",
    "# Preview first item\n",
    "print(ds[0])\n"
   ]
  },
  {
   "cell_type": "code",
   "execution_count": 4,
   "id": "211dbf4f",
   "metadata": {},
   "outputs": [
    {
     "name": "stdout",
     "output_type": "stream",
     "text": [
      "WARNING:tensorflow:From c:\\Users\\helle\\anaconda3\\envs\\Learn-env2\\Lib\\site-packages\\tf_keras\\src\\losses.py:2976: The name tf.losses.sparse_softmax_cross_entropy is deprecated. Please use tf.compat.v1.losses.sparse_softmax_cross_entropy instead.\n",
      "\n"
     ]
    }
   ],
   "source": [
    "from sentence_transformers import InputExample\n",
    "\n",
    "dataset = load_dataset(\"MohammadOthman/mo-customer-support-tweets-945k\", split=\"train\")\n",
    "sampled_dataset = dataset.shuffle(seed=42).select(range(5000))\n",
    "\n",
    "# Creating InputExamples for fine-tuning\n",
    "train_samples = [\n",
    "    InputExample(texts=[item[\"input\"], item[\"output\"]])\n",
    "    for item in sampled_dataset\n",
    "    if item[\"output\"] is not None\n",
    "]\n"
   ]
  },
  {
   "cell_type": "code",
   "execution_count": null,
   "id": "68dcbe57",
   "metadata": {},
   "outputs": [
    {
     "name": "stdout",
     "output_type": "stream",
     "text": [
      "Collecting accelerate>=0.26.0\n",
      "  Using cached accelerate-1.9.0-py3-none-any.whl.metadata (19 kB)\n",
      "Requirement already satisfied: numpy<3.0.0,>=1.17 in c:\\users\\helle\\anaconda3\\envs\\learn-env2\\lib\\site-packages (from accelerate>=0.26.0) (1.26.4)\n",
      "Requirement already satisfied: packaging>=20.0 in c:\\users\\helle\\anaconda3\\envs\\learn-env2\\lib\\site-packages (from accelerate>=0.26.0) (23.2)\n",
      "Requirement already satisfied: psutil in c:\\users\\helle\\anaconda3\\envs\\learn-env2\\lib\\site-packages (from accelerate>=0.26.0) (5.9.8)\n",
      "Requirement already satisfied: pyyaml in c:\\users\\helle\\anaconda3\\envs\\learn-env2\\lib\\site-packages (from accelerate>=0.26.0) (6.0.2)\n",
      "Requirement already satisfied: torch>=2.0.0 in c:\\users\\helle\\anaconda3\\envs\\learn-env2\\lib\\site-packages (from accelerate>=0.26.0) (2.7.1)\n",
      "Requirement already satisfied: huggingface_hub>=0.21.0 in c:\\users\\helle\\anaconda3\\envs\\learn-env2\\lib\\site-packages (from accelerate>=0.26.0) (0.33.4)\n",
      "Requirement already satisfied: safetensors>=0.4.3 in c:\\users\\helle\\anaconda3\\envs\\learn-env2\\lib\\site-packages (from accelerate>=0.26.0) (0.5.3)\n",
      "Requirement already satisfied: filelock in c:\\users\\helle\\anaconda3\\envs\\learn-env2\\lib\\site-packages (from huggingface_hub>=0.21.0->accelerate>=0.26.0) (3.18.0)\n",
      "Requirement already satisfied: fsspec>=2023.5.0 in c:\\users\\helle\\anaconda3\\envs\\learn-env2\\lib\\site-packages (from huggingface_hub>=0.21.0->accelerate>=0.26.0) (2025.3.0)\n",
      "Requirement already satisfied: requests in c:\\users\\helle\\anaconda3\\envs\\learn-env2\\lib\\site-packages (from huggingface_hub>=0.21.0->accelerate>=0.26.0) (2.32.3)\n",
      "Requirement already satisfied: tqdm>=4.42.1 in c:\\users\\helle\\anaconda3\\envs\\learn-env2\\lib\\site-packages (from huggingface_hub>=0.21.0->accelerate>=0.26.0) (4.67.1)\n",
      "Requirement already satisfied: typing-extensions>=3.7.4.3 in c:\\users\\helle\\anaconda3\\envs\\learn-env2\\lib\\site-packages (from huggingface_hub>=0.21.0->accelerate>=0.26.0) (4.14.1)\n",
      "Requirement already satisfied: sympy>=1.13.3 in c:\\users\\helle\\anaconda3\\envs\\learn-env2\\lib\\site-packages (from torch>=2.0.0->accelerate>=0.26.0) (1.14.0)\n",
      "Requirement already satisfied: networkx in c:\\users\\helle\\anaconda3\\envs\\learn-env2\\lib\\site-packages (from torch>=2.0.0->accelerate>=0.26.0) (3.5)\n",
      "Requirement already satisfied: jinja2 in c:\\users\\helle\\anaconda3\\envs\\learn-env2\\lib\\site-packages (from torch>=2.0.0->accelerate>=0.26.0) (3.1.6)\n",
      "Requirement already satisfied: mpmath<1.4,>=1.1.0 in c:\\users\\helle\\anaconda3\\envs\\learn-env2\\lib\\site-packages (from sympy>=1.13.3->torch>=2.0.0->accelerate>=0.26.0) (1.3.0)\n",
      "Requirement already satisfied: colorama in c:\\users\\helle\\anaconda3\\envs\\learn-env2\\lib\\site-packages (from tqdm>=4.42.1->huggingface_hub>=0.21.0->accelerate>=0.26.0) (0.4.6)\n",
      "Requirement already satisfied: MarkupSafe>=2.0 in c:\\users\\helle\\anaconda3\\envs\\learn-env2\\lib\\site-packages (from jinja2->torch>=2.0.0->accelerate>=0.26.0) (3.0.2)\n",
      "Requirement already satisfied: charset-normalizer<4,>=2 in c:\\users\\helle\\anaconda3\\envs\\learn-env2\\lib\\site-packages (from requests->huggingface_hub>=0.21.0->accelerate>=0.26.0) (3.4.2)\n",
      "Requirement already satisfied: idna<4,>=2.5 in c:\\users\\helle\\anaconda3\\envs\\learn-env2\\lib\\site-packages (from requests->huggingface_hub>=0.21.0->accelerate>=0.26.0) (3.10)\n",
      "Requirement already satisfied: urllib3<3,>=1.21.1 in c:\\users\\helle\\anaconda3\\envs\\learn-env2\\lib\\site-packages (from requests->huggingface_hub>=0.21.0->accelerate>=0.26.0) (2.4.0)\n",
      "Requirement already satisfied: certifi>=2017.4.17 in c:\\users\\helle\\anaconda3\\envs\\learn-env2\\lib\\site-packages (from requests->huggingface_hub>=0.21.0->accelerate>=0.26.0) (2025.4.26)\n",
      "Using cached accelerate-1.9.0-py3-none-any.whl (367 kB)\n",
      "Installing collected packages: accelerate\n",
      "Successfully installed accelerate-1.9.0\n"
     ]
    }
   ],
   "source": [
    "!pip install \"accelerate>=0.26.0\"\n",
    " \n",
    "# a hugging face library often used when fine-tuning models like transformers "
   ]
  },
  {
   "cell_type": "code",
   "execution_count": 5,
   "id": "53d81a38",
   "metadata": {},
   "outputs": [],
   "source": [
    "from sentence_transformers import InputExample\n",
    "\n",
    "# Example training data: a list of InputExample objects\n",
    "train_samples = [\n",
    "    InputExample(texts=[\"How are you?\", \"How do you do?\"]),\n",
    "    InputExample(texts=[\"What's your name?\", \"May I know your name?\"]),\n",
    "    InputExample(texts=[\"I love pizza\", \"Pizza is my favorite\"]),\n",
    "]\n"
   ]
  },
  {
   "cell_type": "code",
   "execution_count": 7,
   "id": "2838daf2",
   "metadata": {},
   "outputs": [
    {
     "name": "stderr",
     "output_type": "stream",
     "text": [
      "c:\\Users\\helle\\anaconda3\\envs\\Learn-env2\\Lib\\site-packages\\torch\\utils\\data\\dataloader.py:665: UserWarning: 'pin_memory' argument is set as true but no accelerator is found, then device pinned memory won't be used.\n",
      "  warnings.warn(warn_msg)\n"
     ]
    },
    {
     "data": {
      "text/html": [
       "\n",
       "    <div>\n",
       "      \n",
       "      <progress value='3' max='3' style='width:300px; height:20px; vertical-align: middle;'></progress>\n",
       "      [3/3 00:00, Epoch 3/3]\n",
       "    </div>\n",
       "    <table border=\"1\" class=\"dataframe\">\n",
       "  <thead>\n",
       " <tr style=\"text-align: left;\">\n",
       "      <th>Step</th>\n",
       "      <th>Training Loss</th>\n",
       "    </tr>\n",
       "  </thead>\n",
       "  <tbody>\n",
       "  </tbody>\n",
       "</table><p>"
      ],
      "text/plain": [
       "<IPython.core.display.HTML object>"
      ]
     },
     "metadata": {},
     "output_type": "display_data"
    }
   ],
   "source": [
    "from sentence_transformers import SentenceTransformer, losses\n",
    "from torch.utils.data import DataLoader\n",
    "\n",
    "model = SentenceTransformer('sentence-transformers/all-MiniLM-L6-v2')\n",
    "train_dataloader = DataLoader(train_samples, shuffle=True, batch_size=16)\n",
    "train_loss = losses.MultipleNegativesRankingLoss(model)\n",
    "\n",
    "model.fit(\n",
    "    train_objectives=[(train_dataloader, train_loss)],\n",
    "    epochs=3,\n",
    "    warmup_steps=100\n",
    ")\n",
    "\n"
   ]
  },
  {
   "cell_type": "code",
   "execution_count": 8,
   "id": "3b219a14",
   "metadata": {},
   "outputs": [],
   "source": [
    "model.save(\"finetuned_customer_care_model\")\n"
   ]
  },
  {
   "cell_type": "code",
   "execution_count": 10,
   "id": "67040a5f",
   "metadata": {},
   "outputs": [
    {
     "name": "stdout",
     "output_type": "stream",
     "text": [
      "User: I need help tracking my order\n",
      "Bot: Sure, let me check the status of your order.\n"
     ]
    }
   ],
   "source": [
    "# Example test input (user query)\n",
    "user_input = \"I need help tracking my order\"\n",
    "\n",
    "# Candidate responses (these can come from your response dataset or a list)\n",
    "candidate_responses = [\n",
    "    \"Sure, let me check the status of your order.\",\n",
    "    \"Please provide your order number so I can assist you.\",\n",
    "    \"Try rebooting your device.\",\n",
    "    \"That's not something we can help with.\"\n",
    "]\n",
    "\n",
    "# Encoding the input and candidates\n",
    "from numpy import dot\n",
    "from numpy.linalg import norm\n",
    "\n",
    "user_embedding = model.encode(user_input)\n",
    "response_embeddings = model.encode(candidate_responses)\n",
    "\n",
    "# Computing cosine similarities\n",
    "def cosine_similarity(a, b):\n",
    "    return dot(a, b) / (norm(a) * norm(b))\n",
    "\n",
    "similarities = [cosine_similarity(user_embedding, resp_emb) for resp_emb in response_embeddings]\n",
    "\n",
    "best_index = similarities.index(max(similarities))\n",
    "print(\"User:\", user_input)\n",
    "print(\"Bot:\", candidate_responses[best_index])\n"
   ]
  },
  {
   "cell_type": "markdown",
   "id": "9f09bddd",
   "metadata": {},
   "source": [
    "# Evaluation "
   ]
  },
  {
   "cell_type": "markdown",
   "id": "ba8c63ee",
   "metadata": {},
   "source": [
    "### Semantic Similarity Evaluation"
   ]
  },
  {
   "cell_type": "code",
   "execution_count": 11,
   "id": "244f8761",
   "metadata": {},
   "outputs": [
    {
     "data": {
      "text/plain": [
       "{'pearson_cosine': 0.9224705839869486, 'spearman_cosine': 0.7999999999999999}"
      ]
     },
     "execution_count": 11,
     "metadata": {},
     "output_type": "execute_result"
    }
   ],
   "source": [
    "from sentence_transformers.evaluation import EmbeddingSimilarityEvaluator\n",
    "\n",
    "# Sample sentence pairs and scores \n",
    "sentences1 = [\n",
    "    \"Where is my order?\", \n",
    "    \"Your service is terrible\", \n",
    "    \"Can I get a refund?\", \n",
    "    \"Thank you for the help\"\n",
    "]\n",
    "\n",
    "sentences2 = [\n",
    "    \"The delivery should arrive today.\", \n",
    "    \"I’m sorry to hear that, let me assist.\", \n",
    "    \"Sure, let me process your refund now.\", \n",
    "    \"Glad we could help!\"\n",
    "]\n",
    "\n",
    "# Human-labeled similarity scores\n",
    "scores = [0.9, 0.8, 1.0, 0.95]\n",
    "\n",
    "# Evaluate\n",
    "evaluator = EmbeddingSimilarityEvaluator(sentences1, sentences2, scores)\n",
    "model.evaluate(evaluator)\n"
   ]
  },
  {
   "cell_type": "markdown",
   "id": "f366e39c",
   "metadata": {},
   "source": [
    "### Retrieval-Based Evaluation"
   ]
  },
  {
   "cell_type": "code",
   "execution_count": null,
   "id": "0400d6fe",
   "metadata": {},
   "outputs": [
    {
     "name": "stdout",
     "output_type": "stream",
     "text": [
      "\n",
      "Query: Where is my delivery?\n",
      "→ Top Match (Score: 0.55): Please allow 24 hours for delivery.\n",
      "\n",
      "Query: This service sucks.\n",
      "→ Top Match (Score: 0.32): Sorry to hear that, let me look into it.\n",
      "\n",
      "Query: I want a refund\n",
      "→ Top Match (Score: 0.70): Your refund has been processed.\n",
      "\n",
      "Query: Thanks for the help!\n",
      "→ Top Match (Score: 0.33): We're happy to assist you anytime!\n",
      "\n",
      "Query: How long should I wait?\n",
      "→ Top Match (Score: 0.16): Please allow 24 hours for delivery.\n"
     ]
    }
   ],
   "source": [
    "from sentence_transformers import util\n",
    "\n",
    "# Corpus of known responses (like chatbot answers)\n",
    "corpus = [\n",
    "    \"I'm checking on your order right now.\",\n",
    "    \"Sorry to hear that, let me look into it.\",\n",
    "    \"Your refund has been processed.\",\n",
    "    \"We're happy to assist you anytime!\",\n",
    "    \"Please allow 24 hours for delivery.\"\n",
    "]\n",
    "\n",
    "corpus_embeddings = model.encode(corpus, convert_to_tensor=True)\n",
    "\n",
    "# Example user queries\n",
    "queries = [\n",
    "    \"Where is my delivery?\",\n",
    "    \"This service sucks.\",\n",
    "    \"I want a refund\",\n",
    "    \"Thanks for the help!\",\n",
    "    \"How long should I wait?\"\n",
    "]\n",
    "\n",
    "# Evaluating each query\n",
    "for query in queries:\n",
    "    query_embedding = model.encode(query, convert_to_tensor=True)\n",
    "    hits = util.semantic_search(query_embedding, corpus_embeddings, top_k=1)\n",
    "    top_hit = hits[0][0]\n",
    "    print(f\"\\nQuery: {query}\")\n",
    "    print(f\"→ Top Match (Score: {top_hit['score']:.2f}): {corpus[top_hit['corpus_id']]}\")\n"
   ]
  },
  {
   "cell_type": "markdown",
   "id": "171ea51a",
   "metadata": {},
   "source": [
    "### Further Training "
   ]
  },
  {
   "cell_type": "code",
   "execution_count": 23,
   "id": "20ac7c1c",
   "metadata": {},
   "outputs": [],
   "source": [
    "from sentence_transformers import InputExample\n",
    "import random\n",
    "\n",
    "# Swahili-only, English-only, and mixed-language ecommerce dialogues\n",
    "swahili_inputs = [\n",
    "    (\"Je, ninaweza kulipa kwa M-Pesa?\", \"Ndiyo, tunakubali malipo kupitia M-Pesa.\"),\n",
    "    (\"Nimesubiri siku tatu sasa\", \"Tunaomba radhi, tutakujulisha mara moja kuhusu agizo lako.\"),\n",
    "    (\"Naomba refund\", \"Tunaomba radhi kwa usumbufu. Pesa zako zitarudishwa hivi karibuni.\"),\n",
    "    (\"Nataka kubadilisha agizo langu\", \"Tafadhali tuma ombi lako la mabadiliko kupitia akaunti yako.\"),\n",
    "    (\"Agizo langu halijafika\", \"Tunaomba radhi, tunaifuatilia mara moja.\"),\n",
    "    (\"Ninahitaji msaada na akaunti yangu\", \"Tafadhali elezea shida yako na tutakusaidia.\"),\n",
    "    (\"Je, kuna ofa maalum?\", \"Ndiyo, tuna punguzo la asilimia 10 wiki hii.\"),\n",
    "    (\"Huduma yenu ni bora\", \"Asante sana kwa maoni yako chanya.\"),\n",
    "    (\"Nimepokea bidhaa isiyo sahihi\", \"Tunaomba radhi, tafadhali rudisha bidhaa na tutatuma mpya.\"),\n",
    "    (\"Je, mnafanya usafirishaji kimataifa?\", \"Ndiyo, tunasafirisha kimataifa kwa ada ya ziada.\"),\n",
    "]\n",
    "\n",
    "english_inputs = [\n",
    "    (\"Where is my package?\", \"Your order is on the way and will arrive within 24 hours.\"),\n",
    "    (\"Thanks!\", \"You’re welcome! Let us know if you need anything else.\"),\n",
    "    (\"I want to change my order\", \"Sure, you can update your order in your account settings.\"),\n",
    "    (\"My item arrived damaged\", \"We're sorry to hear that. Please send a photo and we'll replace it.\"),\n",
    "    (\"Do you offer express shipping?\", \"Yes, we offer same-day delivery in select areas.\"),\n",
    "    (\"How do I track my order?\", \"You can track your order using the tracking link sent to your email.\"),\n",
    "    (\"I forgot my password\", \"Click on ‘Forgot Password’ on the login page to reset it.\"),\n",
    "    (\"Can I return an item?\", \"Yes, you can return items within 14 days.\"),\n",
    "    (\"Do you offer discounts?\", \"Yes, check our homepage for current promotions.\"),\n",
    "    (\"Is this item in stock?\", \"Yes, it's currently available.\"),\n",
    "]\n",
    "\n",
    "mixed_inputs = [\n",
    "    (\"Nataka kuplace order lakini site haifunguki\", \"Tunaomba radhi, jaribu tena baada ya dakika chache.\"),\n",
    "    (\"How much is shipping to Nairobi?\", \"Standard shipping to Nairobi is KSh 250.\"),\n",
    "    (\"Agizo langu limechelewa\", \"We're sorry for the delay, your package is on its way.\"),\n",
    "    (\"Is it possible to cancel my agizo?\", \"Yes, you can cancel your order within 30 minutes.\"),\n",
    "    (\"Can I pay via M-Pesa or card?\", \"Yes, both M-Pesa and card payments are accepted.\"),\n",
    "    (\"Je, kuna warranty kwa hizi bidhaa?\", \"Yes, all electronics come with a 1-year warranty.\"),\n",
    "    (\"Nimesahau password ya akaunti\", \"Click on ‘Forgot Password’ on the login screen.\"),\n",
    "    (\"Delivery inachukua muda gani?\", \"It takes 1-2 business days within Nairobi.\"),\n",
    "    (\"I need a refund for my last agizo\", \"Please contact support and we’ll initiate a refund.\"),\n",
    "    (\"Je, hii item iko available?\", \"Yes, it's available and ready to ship.\"),\n",
    "]\n",
    "\n",
    "# Convert to InputExample\n",
    "all_samples = [\n",
    "    InputExample(texts=[q, a])\n",
    "    for q, a in (swahili_inputs + english_inputs + mixed_inputs)\n",
    "]\n",
    "\n",
    "# Multiply and shuffle to get ~510 samples\n",
    "train_samples = all_samples * 17\n",
    "random.shuffle(train_samples)\n"
   ]
  },
  {
   "cell_type": "code",
   "execution_count": 35,
   "id": "eb42f306",
   "metadata": {},
   "outputs": [
    {
     "name": "stderr",
     "output_type": "stream",
     "text": [
      "c:\\Users\\helle\\anaconda3\\envs\\Learn-env2\\Lib\\site-packages\\torch\\utils\\data\\dataloader.py:665: UserWarning: 'pin_memory' argument is set as true but no accelerator is found, then device pinned memory won't be used.\n",
      "  warnings.warn(warn_msg)\n"
     ]
    },
    {
     "data": {
      "text/html": [
       "\n",
       "    <div>\n",
       "      \n",
       "      <progress value='96' max='96' style='width:300px; height:20px; vertical-align: middle;'></progress>\n",
       "      [96/96 12:42, Epoch 3/3]\n",
       "    </div>\n",
       "    <table border=\"1\" class=\"dataframe\">\n",
       "  <thead>\n",
       " <tr style=\"text-align: left;\">\n",
       "      <th>Step</th>\n",
       "      <th>Training Loss</th>\n",
       "    </tr>\n",
       "  </thead>\n",
       "  <tbody>\n",
       "  </tbody>\n",
       "</table><p>"
      ],
      "text/plain": [
       "<IPython.core.display.HTML object>"
      ]
     },
     "metadata": {},
     "output_type": "display_data"
    }
   ],
   "source": [
    "from sentence_transformers import SentenceTransformer, losses, models\n",
    "from torch.utils.data import DataLoader\n",
    "\n",
    "# Loading transformer model\n",
    "model = SentenceTransformer('sentence-transformers/all-MiniLM-L6-v2')\n",
    "\n",
    "train_dataloader = DataLoader(train_samples, shuffle=True, batch_size=16)\n",
    "\n",
    "# Loss function\n",
    "train_loss = losses.MultipleNegativesRankingLoss(model)\n",
    "\n",
    "# Fine-tuning model\n",
    "model.fit(\n",
    "    train_objectives=[(train_dataloader, train_loss)],\n",
    "    epochs=3,\n",
    "    warmup_steps=100,\n",
    "    show_progress_bar=True\n",
    ")\n"
   ]
  },
  {
   "cell_type": "code",
   "execution_count": 36,
   "id": "38b312a4",
   "metadata": {},
   "outputs": [],
   "source": [
    "model.save('./ecom-mixedlang-model')"
   ]
  },
  {
   "cell_type": "code",
   "execution_count": 37,
   "id": "bb21bd7b",
   "metadata": {},
   "outputs": [
    {
     "name": "stdout",
     "output_type": "stream",
     "text": [
      "Best Match: Yes, we accept Visa Card.\n"
     ]
    }
   ],
   "source": [
    "query = \"Je, mnapokea Visa Card?\"\n",
    "corpus = [\"Yes, we accept Visa Card.\", \"No, only M-Pesa is allowed.\", \"You can use credit or debit cards.\"]\n",
    "\n",
    "from sentence_transformers import util\n",
    "\n",
    "query_embedding = model.encode(query, convert_to_tensor=True)\n",
    "corpus_embeddings = model.encode(corpus, convert_to_tensor=True)\n",
    "\n",
    "hits = util.semantic_search(query_embedding, corpus_embeddings, top_k=2)\n",
    "print(\"Best Match:\", corpus[hits[0][0]['corpus_id']])\n"
   ]
  },
  {
   "cell_type": "code",
   "execution_count": 38,
   "id": "ef17d5bc",
   "metadata": {},
   "outputs": [],
   "source": [
    "# loading Fine tuned model \n",
    "\n",
    "from sentence_transformers import SentenceTransformer, util\n",
    "\n",
    "model = SentenceTransformer('./ecom-mixedlang-model')\n"
   ]
  },
  {
   "cell_type": "code",
   "execution_count": 39,
   "id": "df872bc1",
   "metadata": {},
   "outputs": [],
   "source": [
    "# Defining Knowledge based \n",
    "\n",
    "# Define answers the bot can return\n",
    "corpus = [\n",
    "    \"Ndiyo, tunakubali malipo kupitia M-Pesa.\",\n",
    "    \"Your order is on the way and will arrive within 24 hours.\",\n",
    "    \"Tunaomba radhi kwa usumbufu. Pesa zako zitarudishwa hivi karibuni.\",\n",
    "    \"You’re welcome! Let us know if you need anything else.\",\n",
    "    \"Tunaomba radhi, tutakujulisha mara moja kuhusu agizo lako.\",\n",
    "    \"Yes, both M-Pesa and card payments are accepted.\",\n",
    "    \"Click on ‘Forgot Password’ on the login screen.\",\n",
    "    \"It takes 1-2 business days within Nairobi.\",\n",
    "    \"Tafadhali tuma ombi lako la mabadiliko kupitia akaunti yako.\",\n",
    "    \"Yes, all electronics come with a 1-year warranty.\",\n",
    "    \"Tunaomba radhi, jaribu tena baada ya dakika chache.\",\n",
    "]\n",
    "\n",
    "# Encode the corpus once\n",
    "corpus_embeddings = model.encode(corpus, convert_to_tensor=True)\n"
   ]
  },
  {
   "cell_type": "code",
   "execution_count": 40,
   "id": "497bcab2",
   "metadata": {},
   "outputs": [],
   "source": [
    "#Defining  Response Function\n",
    "\n",
    "def chat_response(user_query):\n",
    "    query_embedding = model.encode(user_query, convert_to_tensor=True)\n",
    "    hits = util.semantic_search(query_embedding, corpus_embeddings, top_k=1)\n",
    "    best_idx = hits[0][0]['corpus_id']\n",
    "    return corpus[best_idx]\n"
   ]
  },
  {
   "cell_type": "code",
   "execution_count": 1,
   "id": "0ee0299d",
   "metadata": {},
   "outputs": [
    {
     "name": "stderr",
     "output_type": "stream",
     "text": [
      "C:\\Users\\jessm\\AppData\\Local\\Temp\\ipykernel_14392\\3967544464.py:7: UserWarning: You have not specified a value for the `type` parameter. Defaulting to the 'tuples' format for chatbot messages, but this is deprecated and will be removed in a future version of Gradio. Please set type='messages' instead, which uses openai-style dictionaries with 'role' and 'content' keys.\n",
      "  chatbot = gr.Chatbot()\n"
     ]
    },
    {
     "name": "stdout",
     "output_type": "stream",
     "text": [
      "* Running on local URL:  http://127.0.0.1:7863\n",
      "* To create a public link, set `share=True` in `launch()`.\n"
     ]
    },
    {
     "data": {
      "text/html": [
       "<div><iframe src=\"http://127.0.0.1:7863/\" width=\"100%\" height=\"500\" allow=\"autoplay; camera; microphone; clipboard-read; clipboard-write;\" frameborder=\"0\" allowfullscreen></iframe></div>"
      ],
      "text/plain": [
       "<IPython.core.display.HTML object>"
      ]
     },
     "metadata": {},
     "output_type": "display_data"
    },
    {
     "data": {
      "text/plain": []
     },
     "execution_count": 1,
     "metadata": {},
     "output_type": "execute_result"
    }
   ],
   "source": [
    "# Gradio Interface \n",
    "\n",
    "import gradio as gr\n",
    "\n",
    "with gr.Blocks() as demo:\n",
    "    gr.Markdown(\"# 🛍️ Ecommerce Support Bot\")\n",
    "    chatbot = gr.Chatbot()\n",
    "    with gr.Row():\n",
    "        txt = gr.Textbox(placeholder=\"Ask a question in Swahili, English, or both...\", label=\"Your Message\")\n",
    "        send_btn = gr.Button(\"Send\")\n",
    "\n",
    "    def respond(message, chat_history):\n",
    "        reply = chat_response(message)\n",
    "        chat_history.append((message, reply))\n",
    "        return chat_history, \"\"\n",
    "\n",
    "    send_btn.click(respond, [txt, chatbot], [chatbot, txt])\n",
    "\n",
    "demo.launch()\n"
   ]
  }
 ],
 "metadata": {
  "kernelspec": {
   "display_name": "base",
   "language": "python",
   "name": "python3"
  },
  "language_info": {
   "codemirror_mode": {
    "name": "ipython",
    "version": 3
   },
   "file_extension": ".py",
   "mimetype": "text/x-python",
   "name": "python",
   "nbconvert_exporter": "python",
   "pygments_lexer": "ipython3",
   "version": "3.12.4"
  }
 },
 "nbformat": 4,
 "nbformat_minor": 5
}
